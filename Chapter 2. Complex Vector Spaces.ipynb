{
 "cells": [
  {
   "cell_type": "markdown",
   "metadata": {},
   "source": [
    "# Chapter 2. Complex Vector Spaces"
   ]
  },
  {
   "cell_type": "markdown",
   "metadata": {},
   "source": [
    "**Programming Drill 2.1.1** Write three functions that perform the addition, inverse, and scalar multiplication operations for Cn, i.e., write a function that accepts the appropriate input for each of the operations and outputs the vector."
   ]
  },
  {
   "cell_type": "code",
   "execution_count": 32,
   "metadata": {},
   "outputs": [
    {
     "name": "stdout",
     "output_type": "stream",
     "text": [
      "The inverse vector of C is: [(-1-2j), (-2-1j), (-1-0j)]\n",
      "The sum of both vectors is: [0j, 0j, 0j]\n",
      "The scala multiplication by 10 is: [(10+20j), (20+10j), (10+0j)]\n"
     ]
    }
   ],
   "source": [
    "def inverse_matrix(C):\n",
    "  C_inverse = []\n",
    "  for i in range(len(C)):\n",
    "    C_inverse.append([])\n",
    "    for j in range(len(C[i])):\n",
    "      C_inverse[i].append(-C[i][j])\n",
    "  return C_inverse\n",
    "\n",
    "def scala_multiply_matrix(C, scala):\n",
    "  C_multiplied = []\n",
    "  for i in range(len(C)):\n",
    "    C_multiplied.append([])\n",
    "    for j in range(len(C[i])):\n",
    "      C_multiplied[i].append(C[i][j]*scala)\n",
    "  return C_multiplied\n",
    "\n",
    "def sum_matrixes(C1, C2):\n",
    "  C_sum = []\n",
    "  for i in range(len(C1)):\n",
    "    C_sum.append([])\n",
    "    for j in range(len(C1[i])):\n",
    "      C_sum[i].append(C1[i][j] + C2[i][j])\n",
    "  return C_sum\n",
    "\n",
    "C3 = [complex(1, 2), complex(2, 1), complex(1)]\n",
    "\n",
    "print(f\"The inverse vector of C is: {inverse_matrix([C3])[0]}\")\n",
    "print(f\"The sum of both vectors is: {sum_matrixes([C3], inverse_matrix([C3]))[0]}\")\n",
    "print(f\"The scala multiplication by 10 is: {scala_multiply_matrix([C3], 10)[0]}\")"
   ]
  },
  {
   "cell_type": "markdown",
   "metadata": {},
   "source": [
    "**Programming Drill 2.2.1** Convert your functions from the last programming drill so\n",
    "that instead of accepting elements of Cn, they accept elements of Cm×n."
   ]
  },
  {
   "cell_type": "code",
   "execution_count": 33,
   "metadata": {},
   "outputs": [
    {
     "name": "stdout",
     "output_type": "stream",
     "text": [
      "The inverse matrix of C43 is: [[(-1-2j), (-2-1j), (-1-0j)], [(-0-1j), (-1+1j), (2-3j)], [(-3-0j), (1+2j), (-1-1j)], [(2-7j), (-9-0j), (-3-4j)]]\n",
      "The sum of both matrixes is: [[0j, 0j, 0j], [0j, 0j, 0j], [0j, 0j, 0j], [0j, 0j, 0j]]\n",
      "The scala multiplication by 10 is: [[(10+20j), (20+10j), (10+0j)], [10j, (10-10j), (-20+30j)], [(30+0j), (-10-20j), (10+10j)], [(-20+70j), (90+0j), (30+40j)]]\n"
     ]
    }
   ],
   "source": [
    "C43 = [\n",
    "  [complex(1, 2), complex(2, 1), complex(1)],\n",
    "  [complex(0, 1), complex(1, -1), complex(-2, 3)],\n",
    "  [complex(3, 0), complex(-1, -2), complex(1, 1)],\n",
    "  [complex(-2, 7), complex(9, 0), complex(3, 4)],\n",
    "]\n",
    "\n",
    "print(f\"The inverse matrix of C43 is: {inverse_matrix(C43)}\")\n",
    "print(f\"The sum of both matrixes is: {sum_matrixes(C43, inverse_matrix(C43))}\")\n",
    "print(f\"The scala multiplication by 10 is: {scala_multiply_matrix(C43, 10)}\")"
   ]
  },
  {
   "cell_type": "markdown",
   "metadata": {},
   "source": [
    "**Programming Drill 2.2.2** Write a function that accepts two complex matrices of the appropriate size. The function should do matrix multiplication and return the result."
   ]
  },
  {
   "cell_type": "code",
   "execution_count": 34,
   "metadata": {},
   "outputs": [
    {
     "name": "stdout",
     "output_type": "stream",
     "text": [
      "[[(11+22j), (-7+20j)], [(19+13j), (12+17j)]]\n",
      "[[(5+10j)]]\n",
      "[[(-9+6j), (-14-8j), 13j, (-1+5j)], [3j, (-4+2j), (3+2j), (1+1j)], [(9+9j), (-6+18j), (15-3j), (6+0j)], [(-3+12j), (-18+4j), (10+11j), (3+5j)]]\n"
     ]
    }
   ],
   "source": [
    "def multiply_matrixes(A: list[list[complex]], B: list[list[complex]]):\n",
    "  ma = len(A)\n",
    "  na = len(A[0])\n",
    "  mb = len(B)\n",
    "  nb = len(B[0])\n",
    "  if na != mb:\n",
    "    raise Exception(\"Inappropriate size!\")\n",
    "  res = []\n",
    "  for i in range(ma):\n",
    "    res.append([])\n",
    "    for j in range(nb):\n",
    "      sum = 0\n",
    "      for k in range(na):\n",
    "        sum += A[i][k]*B[k][j]\n",
    "      res[i].append(sum)\n",
    "  return res\n",
    "\n",
    "print(multiply_matrixes(\n",
    "  [\n",
    "    [complex(2,3), complex(1), complex(3,-3)],\n",
    "    [complex(4,1), complex(0,1), complex(0,-3)],\n",
    "  ],\n",
    "  [\n",
    "    [complex(3,2), complex(1, 1)],\n",
    "    [complex(2), complex(0,-3)],\n",
    "    [complex(0,3), complex(-4,2)],\n",
    "  ]\n",
    "))\n",
    "\n",
    "\n",
    "def transpose_matrix(A: list[list[complex]]):\n",
    "  AT = []\n",
    "  for i in range(len(A[0])):\n",
    "    AT.append([])\n",
    "    for j in range(len(A)):\n",
    "      AT[i].append(A[j][i])\n",
    "  return AT\n",
    "\n",
    "M14 = [\n",
    "  [complex(2,3), complex(1), complex(3,-3), complex(4,1)],\n",
    "]\n",
    "\n",
    "M41 = [\n",
    "  [complex(0,3)],\n",
    "  [complex(-4,2)],\n",
    "  [complex(3,2)],\n",
    "  [complex(1, 1)],\n",
    "]\n",
    "\n",
    "print(multiply_matrixes(M14, M41))\n",
    "print(multiply_matrixes(transpose_matrix(M14), transpose_matrix(M41)))"
   ]
  },
  {
   "cell_type": "markdown",
   "metadata": {},
   "source": [
    "**Programming Drill 2.2.3** Write a function that accepts a vector and a matrix and outputs the vector resulting from the “action.”"
   ]
  },
  {
   "cell_type": "code",
   "execution_count": 35,
   "metadata": {},
   "outputs": [
    {
     "name": "stdout",
     "output_type": "stream",
     "text": [
      "[(10+19j), (13+19j), (11-2j)]\n",
      "[(5+13j), (-10+0j), (1+13j)]\n",
      "[0j, 0j, 0j]\n",
      "[(5+1j), (-3+3j), (2-1j)]\n",
      "[(-1+5j), (-3-3j), (1+2j)]\n"
     ]
    }
   ],
   "source": [
    "def perform_action(matrix, vector):\n",
    "  return transpose_matrix(multiply_matrixes(matrix, transpose_matrix([vector])))[0]\n",
    "\n",
    "matrix =[\n",
    "  [complex(3,2), complex(1, 1), complex(0,3)],\n",
    "  [complex(2), complex(0,-3), complex(-4,2)],\n",
    "  [complex(0,3), complex(-4,2), complex(3,2)]\n",
    "]\n",
    "\n",
    "vector = [complex(5, 1), complex(-3, 3), complex(2, -1)]\n",
    "\n",
    "print(perform_action(matrix, vector))\n",
    "print(perform_action(matrix, [1, 2, 3]))\n",
    "print(perform_action(matrix, [0,0,0]))\n",
    "\n",
    "print(perform_action(\n",
    "  [\n",
    "    [1, 0, 0],\n",
    "    [0, 1, 0],\n",
    "    [0, 0, 1]\n",
    "  ], vector))\n",
    "\n",
    "print(perform_action(\n",
    "  [\n",
    "    [complex(0, 1), 0, 0],\n",
    "    [0, complex(0, 1), 0],\n",
    "    [0, 0, complex(0, 1)]\n",
    "  ], vector))"
   ]
  },
  {
   "cell_type": "markdown",
   "metadata": {},
   "source": [
    "**Programming Drill 2.4.1** Write a function that accepts two complex vectors of length n and calculates their inner product."
   ]
  },
  {
   "cell_type": "code",
   "execution_count": 36,
   "metadata": {},
   "outputs": [
    {
     "name": "stdout",
     "output_type": "stream",
     "text": [
      "32\n",
      "(32+0j)\n",
      "(20-18j)\n",
      "0\n"
     ]
    }
   ],
   "source": [
    "def conjugate_matrix(C: list[list[complex]]):\n",
    "  res = []\n",
    "  for i in range(len(C)):\n",
    "    res.append([])\n",
    "    for j in range(len(C[i])):\n",
    "      # res[i].append(complex(C[i][j].real, -C[i][j].imag))\n",
    "      res[i].append(C[i][j].conjugate())\n",
    "  return res\n",
    "\n",
    "\n",
    "def inner_product(v1, v2):\n",
    "  return multiply_matrixes(\n",
    "    conjugate_matrix([v1]),\n",
    "    transpose_matrix([v2])\n",
    "  )[0][0]\n",
    "\n",
    "print(inner_product(\n",
    "  [1,2,3],\n",
    "  [4,5,6]\n",
    "))\n",
    "\n",
    "print(inner_product(\n",
    "  [complex(0,1),complex(0,2),complex(0,3)],\n",
    "  [complex(0,4),complex(0,5),complex(0,6)],\n",
    "))\n",
    "\n",
    "print(inner_product(\n",
    "  [complex(2,3), complex(1), complex(3,-3)],\n",
    "  [complex(4,1), complex(0,1), complex(0,-3)],\n",
    "))\n",
    "\n",
    "print(inner_product(\n",
    "  [1,1],\n",
    "  [1,-1]\n",
    ")) # orthogonal"
   ]
  },
  {
   "cell_type": "markdown",
   "metadata": {},
   "source": [
    "**Programming Drill 2.4.2** Write a function that calculates the norm of a given complex vector."
   ]
  },
  {
   "cell_type": "code",
   "execution_count": 37,
   "metadata": {},
   "outputs": [
    {
     "name": "stdout",
     "output_type": "stream",
     "text": [
      "3.7416573867739413\n",
      "5.656854249492381\n"
     ]
    }
   ],
   "source": [
    "import math\n",
    "\n",
    "def norm(vector):\n",
    "  ip = inner_product(vector, vector)\n",
    "  if ip.imag != 0:\n",
    "    raise Exception(\"Something went wrong!\")\n",
    "  return math.sqrt(ip.real) # cannot do this square root on complex numbers\n",
    "\n",
    "print(norm([complex(0,1),complex(0,2),complex(0,3)]))\n",
    "print(norm([complex(2,3), complex(1), complex(3,-3)]))"
   ]
  },
  {
   "cell_type": "markdown",
   "metadata": {},
   "source": [
    "**Programming Drill 2.4.3** Write a function that calculates the distance of two given complex vectors."
   ]
  },
  {
   "cell_type": "code",
   "execution_count": 38,
   "metadata": {},
   "outputs": [
    {
     "name": "stdout",
     "output_type": "stream",
     "text": [
      "5.196152422706632\n",
      "5.196152422706632\n",
      "4.358898943540674\n"
     ]
    }
   ],
   "source": [
    "def diff_vectors(v1, v2):\n",
    "  res = []\n",
    "  for i in range(len(v1)):\n",
    "    res.append(v1[i] - v2[i])\n",
    "  return res\n",
    "\n",
    "def distance(v1, v2):\n",
    "  return norm(diff_vectors(v1, v2))\n",
    "\n",
    "print(distance(\n",
    "  [1,2,3],\n",
    "  [4,5,6],\n",
    "))\n",
    "\n",
    "print(distance(\n",
    "  [complex(0,1),complex(0,2),complex(0,3)],\n",
    "  [complex(0,4),complex(0,5),complex(0,6)],\n",
    "))\n",
    "\n",
    "print(distance(\n",
    "  [complex(2,3), complex(1), complex(3,-3)],\n",
    "  [complex(4,1), complex(0,1), complex(0,-3)],\n",
    "))"
   ]
  }
 ],
 "metadata": {
  "kernelspec": {
   "display_name": "Python 3",
   "language": "python",
   "name": "python3"
  },
  "language_info": {
   "codemirror_mode": {
    "name": "ipython",
    "version": 3
   },
   "file_extension": ".py",
   "mimetype": "text/x-python",
   "name": "python",
   "nbconvert_exporter": "python",
   "pygments_lexer": "ipython3",
   "version": "3.10.13"
  }
 },
 "nbformat": 4,
 "nbformat_minor": 2
}
