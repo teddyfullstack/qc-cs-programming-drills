{
 "cells": [
  {
   "cell_type": "markdown",
   "metadata": {},
   "source": [
    "# Chapter 2. Complex Vector Spaces"
   ]
  },
  {
   "cell_type": "markdown",
   "metadata": {},
   "source": [
    "**Programming Drill 2.1.1** Write three functions that perform the addition, inverse, and scalar multiplication operations for Cn, i.e., write a function that accepts the appropriate input for each of the operations and outputs the vector."
   ]
  },
  {
   "cell_type": "code",
   "execution_count": 24,
   "metadata": {},
   "outputs": [
    {
     "name": "stdout",
     "output_type": "stream",
     "text": [
      "The inverse vector of C is: [(-1-2j), (-2-1j), (-1-0j)]\n",
      "The sum of both vectors is: [0j, 0j, 0j]\n",
      "The scala multiplication by 10 is: [(10+20j), (20+10j), (10+0j)]\n"
     ]
    }
   ],
   "source": [
    "def inverse_matrix(C):\n",
    "  C_inverse = []\n",
    "  for i in range(len(C)):\n",
    "    C_inverse.append([])\n",
    "    for j in range(len(C[i])):\n",
    "      C_inverse[i].append(-C[i][j])\n",
    "  return C_inverse\n",
    "\n",
    "def scala_multiply_matrix(C, scala):\n",
    "  C_multiplied = []\n",
    "  for i in range(len(C)):\n",
    "    C_multiplied.append([])\n",
    "    for j in range(len(C[i])):\n",
    "      C_multiplied[i].append(C[i][j]*scala)\n",
    "  return C_multiplied\n",
    "\n",
    "def sum_matrixes(C1, C2):\n",
    "  C_sum = []\n",
    "  for i in range(len(C1)):\n",
    "    C_sum.append([])\n",
    "    for j in range(len(C1[i])):\n",
    "      C_sum[i].append(C1[i][j] + C2[i][j])\n",
    "  return C_sum\n",
    "\n",
    "C3 = [complex(1, 2), complex(2, 1), complex(1)]\n",
    "\n",
    "print(f\"The inverse vector of C is: {inverse_matrix([C3])[0]}\")\n",
    "print(f\"The sum of both vectors is: {sum_matrixes([C3], inverse_matrix([C3]))[0]}\")\n",
    "print(f\"The scala multiplication by 10 is: {scala_multiply_matrix([C3], 10)[0]}\")"
   ]
  },
  {
   "cell_type": "markdown",
   "metadata": {},
   "source": [
    "**Programming Drill 2.2.1** Convert your functions from the last programming drill so\n",
    "that instead of accepting elements of Cn, they accept elements of Cm×n."
   ]
  },
  {
   "cell_type": "code",
   "execution_count": 25,
   "metadata": {},
   "outputs": [
    {
     "name": "stdout",
     "output_type": "stream",
     "text": [
      "The inverse matrix of C43 is: [[(-1-2j), (-2-1j), (-1-0j)], [(-0-1j), (-1+1j), (2-3j)], [(-3-0j), (1+2j), (-1-1j)], [(2-7j), (-9-0j), (-3-4j)]]\n",
      "The sum of both matrixes is: [[0j, 0j, 0j], [0j, 0j, 0j], [0j, 0j, 0j], [0j, 0j, 0j]]\n",
      "The scala multiplication by 10 is: [[(10+20j), (20+10j), (10+0j)], [10j, (10-10j), (-20+30j)], [(30+0j), (-10-20j), (10+10j)], [(-20+70j), (90+0j), (30+40j)]]\n"
     ]
    }
   ],
   "source": [
    "C43 = [\n",
    "  [complex(1, 2), complex(2, 1), complex(1)],\n",
    "  [complex(0, 1), complex(1, -1), complex(-2, 3)],\n",
    "  [complex(3, 0), complex(-1, -2), complex(1, 1)],\n",
    "  [complex(-2, 7), complex(9, 0), complex(3, 4)],\n",
    "]\n",
    "\n",
    "print(f\"The inverse matrix of C43 is: {inverse_matrix(C43)}\")\n",
    "print(f\"The sum of both matrixes is: {sum_matrixes(C43, inverse_matrix(C43))}\")\n",
    "print(f\"The scala multiplication by 10 is: {scala_multiply_matrix(C43, 10)}\")"
   ]
  }
 ],
 "metadata": {
  "kernelspec": {
   "display_name": "Python 3",
   "language": "python",
   "name": "python3"
  },
  "language_info": {
   "codemirror_mode": {
    "name": "ipython",
    "version": 3
   },
   "file_extension": ".py",
   "mimetype": "text/x-python",
   "name": "python",
   "nbconvert_exporter": "python",
   "pygments_lexer": "ipython3",
   "version": "3.10.13"
  }
 },
 "nbformat": 4,
 "nbformat_minor": 2
}
