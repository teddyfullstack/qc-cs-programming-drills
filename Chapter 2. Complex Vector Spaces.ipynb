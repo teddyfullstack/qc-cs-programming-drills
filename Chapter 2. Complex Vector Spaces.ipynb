{
 "cells": [
  {
   "cell_type": "markdown",
   "metadata": {},
   "source": [
    "# Chapter 2. Complex Vector Spaces"
   ]
  },
  {
   "cell_type": "markdown",
   "metadata": {},
   "source": [
    "**Programming Drill 2.1.1** Write three functions that perform the addition, inverse, and scalar multiplication operations for Cn, i.e., write a function that accepts the appropriate input for each of the operations and outputs the vector."
   ]
  },
  {
   "cell_type": "code",
   "execution_count": 59,
   "metadata": {},
   "outputs": [
    {
     "name": "stdout",
     "output_type": "stream",
     "text": [
      "The inverse vector of C is: [(-1-2j), (-2-1j), (-1-0j)]\n",
      "The sum of both vectors is: [0j, 0j, 0j]\n",
      "The scala multiplication by 10 is: [(10+20j), (20+10j), (10+0j)]\n"
     ]
    }
   ],
   "source": [
    "def inverse_matrix(C):\n",
    "  C_inverse = []\n",
    "  for i in range(len(C)):\n",
    "    C_inverse.append([])\n",
    "    for j in range(len(C[i])):\n",
    "      C_inverse[i].append(-C[i][j])\n",
    "  return C_inverse\n",
    "\n",
    "def scala_multiply_matrix(C, scala):\n",
    "  C_multiplied = []\n",
    "  for i in range(len(C)):\n",
    "    C_multiplied.append([])\n",
    "    for j in range(len(C[i])):\n",
    "      C_multiplied[i].append(C[i][j]*scala)\n",
    "  return C_multiplied\n",
    "\n",
    "def sum_matrixes(C1, C2):\n",
    "  C_sum = []\n",
    "  for i in range(len(C1)):\n",
    "    C_sum.append([])\n",
    "    for j in range(len(C1[i])):\n",
    "      C_sum[i].append(C1[i][j] + C2[i][j])\n",
    "  return C_sum\n",
    "\n",
    "C3 = [complex(1, 2), complex(2, 1), complex(1)]\n",
    "\n",
    "print(f\"The inverse vector of C is: {inverse_matrix([C3])[0]}\")\n",
    "print(f\"The sum of both vectors is: {sum_matrixes([C3], inverse_matrix([C3]))[0]}\")\n",
    "print(f\"The scala multiplication by 10 is: {scala_multiply_matrix([C3], 10)[0]}\")"
   ]
  },
  {
   "cell_type": "markdown",
   "metadata": {},
   "source": [
    "**Programming Drill 2.2.1** Convert your functions from the last programming drill so\n",
    "that instead of accepting elements of Cn, they accept elements of Cm×n."
   ]
  },
  {
   "cell_type": "code",
   "execution_count": 60,
   "metadata": {},
   "outputs": [
    {
     "name": "stdout",
     "output_type": "stream",
     "text": [
      "The inverse matrix of C43 is: [[(-1-2j), (-2-1j), (-1-0j)], [(-0-1j), (-1+1j), (2-3j)], [(-3-0j), (1+2j), (-1-1j)], [(2-7j), (-9-0j), (-3-4j)]]\n",
      "The sum of both matrixes is: [[0j, 0j, 0j], [0j, 0j, 0j], [0j, 0j, 0j], [0j, 0j, 0j]]\n",
      "The scala multiplication by 10 is: [[(10+20j), (20+10j), (10+0j)], [10j, (10-10j), (-20+30j)], [(30+0j), (-10-20j), (10+10j)], [(-20+70j), (90+0j), (30+40j)]]\n"
     ]
    }
   ],
   "source": [
    "C43 = [\n",
    "  [complex(1, 2), complex(2, 1), complex(1)],\n",
    "  [complex(0, 1), complex(1, -1), complex(-2, 3)],\n",
    "  [complex(3, 0), complex(-1, -2), complex(1, 1)],\n",
    "  [complex(-2, 7), complex(9, 0), complex(3, 4)],\n",
    "]\n",
    "\n",
    "print(f\"The inverse matrix of C43 is: {inverse_matrix(C43)}\")\n",
    "print(f\"The sum of both matrixes is: {sum_matrixes(C43, inverse_matrix(C43))}\")\n",
    "print(f\"The scala multiplication by 10 is: {scala_multiply_matrix(C43, 10)}\")"
   ]
  },
  {
   "cell_type": "markdown",
   "metadata": {},
   "source": [
    "**Programming Drill 2.2.2** Write a function that accepts two complex matrices of the appropriate size. The function should do matrix multiplication and return the result."
   ]
  },
  {
   "cell_type": "code",
   "execution_count": 61,
   "metadata": {},
   "outputs": [
    {
     "name": "stdout",
     "output_type": "stream",
     "text": [
      "[[(11+22j), (-7+20j)], [(19+13j), (12+17j)]]\n",
      "[[(5+10j)]]\n",
      "[[(-9+6j), (-14-8j), 13j, (-1+5j)], [3j, (-4+2j), (3+2j), (1+1j)], [(9+9j), (-6+18j), (15-3j), (6+0j)], [(-3+12j), (-18+4j), (10+11j), (3+5j)]]\n"
     ]
    }
   ],
   "source": [
    "def multiply_matrixes(A: list[list[complex]], B: list[list[complex]]):\n",
    "  ma = len(A)\n",
    "  na = len(A[0])\n",
    "  mb = len(B)\n",
    "  nb = len(B[0])\n",
    "  if na != mb:\n",
    "    raise Exception(\"Inappropriate size!\")\n",
    "  res = []\n",
    "  for i in range(ma):\n",
    "    res.append([])\n",
    "    for j in range(nb):\n",
    "      sum = 0\n",
    "      for k in range(na):\n",
    "        sum += A[i][k]*B[k][j]\n",
    "      res[i].append(sum)\n",
    "  return res\n",
    "\n",
    "print(multiply_matrixes(\n",
    "  [\n",
    "    [complex(2,3), complex(1), complex(3,-3)],\n",
    "    [complex(4,1), complex(0,1), complex(0,-3)],\n",
    "  ],\n",
    "  [\n",
    "    [complex(3,2), complex(1, 1)],\n",
    "    [complex(2), complex(0,-3)],\n",
    "    [complex(0,3), complex(-4,2)],\n",
    "  ]\n",
    "))\n",
    "\n",
    "\n",
    "def transpose_matrix(A: list[list[complex]]):\n",
    "  AT = []\n",
    "  for i in range(len(A[0])):\n",
    "    AT.append([])\n",
    "    for j in range(len(A)):\n",
    "      AT[i].append(A[j][i])\n",
    "  return AT\n",
    "\n",
    "M14 = [\n",
    "  [complex(2,3), complex(1), complex(3,-3), complex(4,1)],\n",
    "]\n",
    "\n",
    "M41 = [\n",
    "  [complex(0,3)],\n",
    "  [complex(-4,2)],\n",
    "  [complex(3,2)],\n",
    "  [complex(1, 1)],\n",
    "]\n",
    "\n",
    "print(multiply_matrixes(M14, M41))\n",
    "print(multiply_matrixes(transpose_matrix(M14), transpose_matrix(M41)))"
   ]
  },
  {
   "cell_type": "markdown",
   "metadata": {},
   "source": [
    "**Programming Drill 2.2.3** Write a function that accepts a vector and a matrix and outputs the vector resulting from the “action.”"
   ]
  },
  {
   "cell_type": "code",
   "execution_count": 62,
   "metadata": {},
   "outputs": [
    {
     "name": "stdout",
     "output_type": "stream",
     "text": [
      "[(10+19j), (13+19j), (11-2j)]\n",
      "[(5+13j), (-10+0j), (1+13j)]\n",
      "[0j, 0j, 0j]\n",
      "[(5+1j), (-3+3j), (2-1j)]\n",
      "[(-1+5j), (-3-3j), (1+2j)]\n"
     ]
    }
   ],
   "source": [
    "def perform_action(matrix, vector):\n",
    "  return transpose_matrix(multiply_matrixes(matrix, transpose_matrix([vector])))[0]\n",
    "\n",
    "matrix =[\n",
    "  [complex(3,2), complex(1, 1), complex(0,3)],\n",
    "  [complex(2), complex(0,-3), complex(-4,2)],\n",
    "  [complex(0,3), complex(-4,2), complex(3,2)]\n",
    "]\n",
    "\n",
    "vector = [complex(5, 1), complex(-3, 3), complex(2, -1)]\n",
    "\n",
    "print(perform_action(matrix, vector))\n",
    "print(perform_action(matrix, [1, 2, 3]))\n",
    "print(perform_action(matrix, [0,0,0]))\n",
    "\n",
    "print(perform_action(\n",
    "  [\n",
    "    [1, 0, 0],\n",
    "    [0, 1, 0],\n",
    "    [0, 0, 1]\n",
    "  ], vector))\n",
    "\n",
    "print(perform_action(\n",
    "  [\n",
    "    [complex(0, 1), 0, 0],\n",
    "    [0, complex(0, 1), 0],\n",
    "    [0, 0, complex(0, 1)]\n",
    "  ], vector))"
   ]
  },
  {
   "cell_type": "markdown",
   "metadata": {},
   "source": [
    "**Programming Drill 2.4.1** Write a function that accepts two complex vectors of length n and calculates their inner product."
   ]
  },
  {
   "cell_type": "code",
   "execution_count": 63,
   "metadata": {},
   "outputs": [
    {
     "name": "stdout",
     "output_type": "stream",
     "text": [
      "32\n",
      "(32+0j)\n",
      "(20-18j)\n",
      "0\n"
     ]
    }
   ],
   "source": [
    "def transpose_matrix(C: list[list[complex]]):\n",
    "  res = []\n",
    "  for i in range(len(C[0])):\n",
    "    res.append([])\n",
    "    for j in range(len(C)):\n",
    "      # res[i].append(complex(C[i][j].real, -C[i][j].imag))\n",
    "      res[i].append(C[j][i].conjugate())\n",
    "  return res\n",
    "\n",
    "def inner_product(v1, v2):\n",
    "  return multiply_matrixes(\n",
    "    transpose_matrix([[c1] for c1 in v1]),\n",
    "    [[c2] for c2 in v2]\n",
    "  )[0][0]\n",
    "\n",
    "print(inner_product(\n",
    "  [1,2,3],\n",
    "  [4,5,6]\n",
    "))\n",
    "\n",
    "print(inner_product(\n",
    "  [complex(0,1),complex(0,2),complex(0,3)],\n",
    "  [complex(0,4),complex(0,5),complex(0,6)],\n",
    "))\n",
    "\n",
    "print(inner_product(\n",
    "  [complex(2,3), complex(1), complex(3,-3)],\n",
    "  [complex(4,1), complex(0,1), complex(0,-3)],\n",
    "))\n",
    "\n",
    "print(inner_product(\n",
    "  [1,1],\n",
    "  [1,-1]\n",
    ")) # orthogonal"
   ]
  },
  {
   "cell_type": "markdown",
   "metadata": {},
   "source": [
    "**Programming Drill 2.4.2** Write a function that calculates the norm of a given complex vector."
   ]
  },
  {
   "cell_type": "code",
   "execution_count": 64,
   "metadata": {},
   "outputs": [
    {
     "name": "stdout",
     "output_type": "stream",
     "text": [
      "3.7416573867739413\n",
      "5.656854249492381\n"
     ]
    }
   ],
   "source": [
    "import math\n",
    "\n",
    "def norm(vector):\n",
    "  ip = inner_product(vector, vector)\n",
    "  if ip.imag != 0:\n",
    "    raise Exception(\"Something went wrong!\")\n",
    "  return math.sqrt(ip.real) # cannot do this square root on complex numbers\n",
    "\n",
    "print(norm([complex(0,1),complex(0,2),complex(0,3)]))\n",
    "print(norm([complex(2,3), complex(1), complex(3,-3)]))"
   ]
  },
  {
   "cell_type": "markdown",
   "metadata": {},
   "source": [
    "**Programming Drill 2.4.3** Write a function that calculates the distance of two given complex vectors."
   ]
  },
  {
   "cell_type": "code",
   "execution_count": 65,
   "metadata": {},
   "outputs": [
    {
     "name": "stdout",
     "output_type": "stream",
     "text": [
      "5.196152422706632\n",
      "5.196152422706632\n",
      "4.358898943540674\n"
     ]
    }
   ],
   "source": [
    "def diff_vectors(v1, v2):\n",
    "  res = []\n",
    "  for i in range(len(v1)):\n",
    "    res.append(v1[i] - v2[i])\n",
    "  return res\n",
    "\n",
    "def distance(v1, v2):\n",
    "  return norm(diff_vectors(v1, v2))\n",
    "\n",
    "print(distance(\n",
    "  [1,2,3],\n",
    "  [4,5,6],\n",
    "))\n",
    "\n",
    "print(distance(\n",
    "  [complex(0,1),complex(0,2),complex(0,3)],\n",
    "  [complex(0,4),complex(0,5),complex(0,6)],\n",
    "))\n",
    "\n",
    "print(distance(\n",
    "  [complex(2,3), complex(1), complex(3,-3)],\n",
    "  [complex(4,1), complex(0,1), complex(0,-3)],\n",
    "))"
   ]
  },
  {
   "cell_type": "markdown",
   "metadata": {},
   "source": [
    "**Programming Drill 2.6.1** Write a function that accepts a square matrix and tells if it is hermitian."
   ]
  },
  {
   "cell_type": "code",
   "execution_count": 66,
   "metadata": {},
   "outputs": [
    {
     "name": "stdout",
     "output_type": "stream",
     "text": [
      "True\n",
      "False\n",
      "True\n"
     ]
    }
   ],
   "source": [
    "def is_hermitian(matrix: list[list[complex]]):\n",
    "  for i in range(len(matrix)):\n",
    "    for j in range(len(matrix[0])):\n",
    "      if matrix[i][j] != matrix[j][i].conjugate():\n",
    "        return False\n",
    "  return True\n",
    "\n",
    "print(is_hermitian(\n",
    "  [\n",
    "    [7, complex(6,5)],\n",
    "    [complex(6,-5),-3]\n",
    "  ]\n",
    "))\n",
    "\n",
    "print(is_hermitian(\n",
    "  [\n",
    "    [7, complex(6,5)],\n",
    "    [complex(6,5),-3]\n",
    "  ]\n",
    "))\n",
    "\n",
    "print(is_hermitian(\n",
    "  [\n",
    "    [7, 6],\n",
    "    [6,-3]\n",
    "  ]\n",
    "))"
   ]
  },
  {
   "cell_type": "markdown",
   "metadata": {},
   "source": [
    "**Programming Drill 2.6.2** Write a function that accepts a square matrix and tells if it is unitary."
   ]
  },
  {
   "cell_type": "code",
   "execution_count": 67,
   "metadata": {},
   "outputs": [
    {
     "name": "stdout",
     "output_type": "stream",
     "text": [
      "[[(110+0j), (24+20j)], [(24-20j), (70+0j)]]\n",
      "False\n",
      "[[1.0, 0.0, 0.0], [0.0, 1.0, 0.0], [0.0, 0.0, 1]]\n",
      "True\n"
     ]
    }
   ],
   "source": [
    "def is_identity(matrix: list[list[complex]]):\n",
    "  for i in range(len(matrix)):\n",
    "    for j in range(len(matrix[0])):\n",
    "      if i == j: # diagonal\n",
    "        if matrix[i][j] != 1:\n",
    "          return False\n",
    "      else:\n",
    "        if matrix[i][j] != 0:\n",
    "          return False\n",
    "  return True\n",
    "\n",
    "\n",
    "def is_unitary(matrix: list[list[complex]]):\n",
    "  product = multiply_matrixes(matrix, transpose_matrix(matrix))\n",
    "  print(product)\n",
    "  return is_identity(product)\n",
    "\n",
    "\n",
    "print(is_unitary(\n",
    "  [\n",
    "    [7, complex(6,5)],\n",
    "    [complex(6,-5),-3]\n",
    "  ]\n",
    "))\n",
    "\n",
    "deg = math.pi / 4\n",
    "print(is_unitary(\n",
    "  [\n",
    "    [math.cos(deg), -math.sin(deg), 0],\n",
    "    [math.sin(deg), math.cos(deg), 0],\n",
    "    [0, 0, 1]\n",
    "  ]\n",
    "))\n"
   ]
  },
  {
   "cell_type": "markdown",
   "metadata": {},
   "source": [
    "**Programming Drill 2.7.1** Write a function that accepts two matrices and constructs\n",
    "their tensor product."
   ]
  },
  {
   "cell_type": "code",
   "execution_count": 87,
   "metadata": {},
   "outputs": [
    {
     "name": "stdout",
     "output_type": "stream",
     "text": [
      "[[8, 12, 6, 12, 18, 9]]\n",
      "[[8, 12, 6, 12, 18, 9], [8, 12, 6, 12, 18, 9]]\n",
      "[[-3, -6, -4, -8, -7, -14]]\n",
      "[[(26+26j), (18+12j), (-4+19j), (52+0j), (30-6j), (15+23j), (-4+20j), 12j, (-10+4j)], [(3+2j), (18+12j), (4-19j), (5-1j), (30-6j), (-15-23j), 2j, 12j, (10-4j)], [0j, (36+24j), (21+27j), 0j, (60-12j), (48+6j), 0j, 24j, (-6+18j)], [(10+2j), 6, (2+5j), (22+46j), (18+24j), (-14+23j), (64-60j), (30-42j), (45+11j)], [1, 6, (-2-5j), (3+4j), (18+24j), (14-23j), (5-7j), (30-42j), (-45-11j)], [0, 12, (9+3j), 0j, (36+48j), (15+45j), 0j, (60-84j), (66-48j)], [0j, 0, 0j, (120+24j), 72, (24+60j), (66-18j), (36-18j), (27+24j)], [0, 0, -0j, 12, 72, (-24-60j), (6-3j), (36-18j), (-27-24j)], [0, 0, 0j, 0, 144, (108+36j), 0j, (72-36j), (63-9j)]]\n"
     ]
    }
   ],
   "source": [
    "def tensor_product(A: list[list[complex]], B: list[list[complex]]):\n",
    "  res = []\n",
    "  for i in range(len(A)):\n",
    "    for j in range(len(B)):\n",
    "      res.append([])\n",
    "      for k in range(len(A[0])):\n",
    "        for l in range(len(B[0])):\n",
    "          res[i*len(B) + j].append(A[i][k]*B[j][l])\n",
    "  return res\n",
    "\n",
    "print(tensor_product(\n",
    "  [[2,3]],\n",
    "  [[4,6,3]]\n",
    "))\n",
    "\n",
    "print(tensor_product(\n",
    "  [[2,3],[2,3]],\n",
    "  [[4,6,3]]\n",
    "))\n",
    "\n",
    "print(tensor_product(\n",
    "  [[3, 4, 7]],\n",
    "  [[-1, -2]]\n",
    "))\n",
    "\n",
    "print(\n",
    "  tensor_product(\n",
    "    [\n",
    "      [3 + 2j, 5 - 1j, 2j],\n",
    "      [1, 3 + 4j, 5 - 7j],\n",
    "      [0, 12, 6 - 3j]\n",
    "    ],\n",
    "    [\n",
    "      [10 + 2j, 6, 2 + 5j],\n",
    "      [1, 6, -2 - 5j],\n",
    "      [0, 12, 9 + 3j]\n",
    "    ]\n",
    "  )\n",
    ")\n"
   ]
  }
 ],
 "metadata": {
  "kernelspec": {
   "display_name": "Python 3",
   "language": "python",
   "name": "python3"
  },
  "language_info": {
   "codemirror_mode": {
    "name": "ipython",
    "version": 3
   },
   "file_extension": ".py",
   "mimetype": "text/x-python",
   "name": "python",
   "nbconvert_exporter": "python",
   "pygments_lexer": "ipython3",
   "version": "3.10.13"
  }
 },
 "nbformat": 4,
 "nbformat_minor": 2
}
