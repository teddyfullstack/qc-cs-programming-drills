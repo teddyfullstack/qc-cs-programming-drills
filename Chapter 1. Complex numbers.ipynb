{
 "cells": [
  {
   "cell_type": "markdown",
   "metadata": {},
   "source": [
    "# Chapter 1\n",
    "\n",
    "**Programming Drill 1.1.1** Write a program that accepts two complex numbers and outputs their sum and their product."
   ]
  },
  {
   "cell_type": "code",
   "execution_count": 21,
   "metadata": {},
   "outputs": [
    {
     "name": "stdout",
     "output_type": "stream",
     "text": [
      "Original numbers are: i and i\n",
      "Their sum is 0+2i and there product is -1+0i\n"
     ]
    }
   ],
   "source": [
    "def input_complex_calculus(prompt):\n",
    "  c = input(prompt)\n",
    "  if \"+\" in c:\n",
    "    real, imaginary = c.split(\"+\")\n",
    "  elif \"-\" in c:\n",
    "    real, imaginary = c.split(\"-\")\n",
    "  elif \"i\" in c:\n",
    "    real = 0\n",
    "    imaginary = c\n",
    "  else:\n",
    "    real = c\n",
    "    imaginary = 0\n",
    "  if not real:\n",
    "    real = 0\n",
    "  if not imaginary:\n",
    "    imaginary = 0\n",
    "  else:\n",
    "    imaginary = imaginary[0:-1]\n",
    "    if not imaginary:\n",
    "      imaginary = 1\n",
    "  return int(real), -int(imaginary) if \"-\" in c else int(imaginary), c\n",
    "\n",
    "cr1, ci1, c1 = input_complex_calculus(\"Enter complex number 1: \")\n",
    "cr2, ci2, c2 = input_complex_calculus(\"Enter complex number 2: \")\n",
    "\n",
    "print(f\"Original numbers are: {c1} and {c2}\")\n",
    "print(f\"Their sum is {cr1+cr2}+{ci1+ci2}i and there product is {cr1*cr2-ci1*ci2}+{cr1*ci2+cr2*ci1}i\")"
   ]
  },
  {
   "cell_type": "code",
   "execution_count": null,
   "metadata": {},
   "outputs": [],
   "source": []
  }
 ],
 "metadata": {
  "kernelspec": {
   "display_name": "Python 3",
   "language": "python",
   "name": "python3"
  },
  "language_info": {
   "codemirror_mode": {
    "name": "ipython",
    "version": 3
   },
   "file_extension": ".py",
   "mimetype": "text/x-python",
   "name": "python",
   "nbconvert_exporter": "python",
   "pygments_lexer": "ipython3",
   "version": "3.10.13"
  }
 },
 "nbformat": 4,
 "nbformat_minor": 2
}
