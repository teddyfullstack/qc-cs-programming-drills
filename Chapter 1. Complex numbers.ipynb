{
 "cells": [
  {
   "cell_type": "markdown",
   "metadata": {},
   "source": [
    "# Chapter 1\n",
    "\n",
    "**Programming Drill 1.1.1** Write a program that accepts two complex numbers and outputs their sum and their product."
   ]
  },
  {
   "cell_type": "code",
   "execution_count": 23,
   "metadata": {},
   "outputs": [
    {
     "name": "stdout",
     "output_type": "stream",
     "text": [
      "Original numbers are: 2+3i and 4-i\n",
      "Their sum is 6+2i and there product is 11+10i\n"
     ]
    }
   ],
   "source": [
    "def input_complex_calculus(prompt):\n",
    "  c = input(prompt)\n",
    "  if \"+\" in c:\n",
    "    real, imaginary = c.split(\"+\")\n",
    "  elif \"-\" in c:\n",
    "    real, imaginary = c.split(\"-\")\n",
    "  elif \"i\" in c:\n",
    "    real = 0\n",
    "    imaginary = c\n",
    "  else:\n",
    "    real = c\n",
    "    imaginary = 0\n",
    "  if not real:\n",
    "    real = 0\n",
    "  if not imaginary:\n",
    "    imaginary = 0\n",
    "  else:\n",
    "    imaginary = imaginary[0:-1]\n",
    "    if not imaginary:\n",
    "      imaginary = 1\n",
    "  return int(real), -int(imaginary) if \"-\" in c else int(imaginary), c\n",
    "\n",
    "cr1, ci1, c1 = input_complex_calculus(\"Enter complex number 1: \")\n",
    "cr2, ci2, c2 = input_complex_calculus(\"Enter complex number 2: \")\n",
    "\n",
    "print(f\"Original numbers are: {c1} and {c2}\")\n",
    "print(f\"Their sum is {cr1+cr2}+{ci1+ci2}i and there product is {cr1*cr2-ci1*ci2}+{cr1*ci2+cr2*ci1}i\")"
   ]
  },
  {
   "cell_type": "markdown",
   "metadata": {},
   "source": [
    "\n",
    "**Programming Drill 1.2.1** Take the program that you wrote in the last programming drill and make it also perform subtraction and division of complex numbers. In ad- dition, let the user enter a complex number and have the computer return its modulus and conjugate."
   ]
  },
  {
   "cell_type": "code",
   "execution_count": 24,
   "metadata": {},
   "outputs": [
    {
     "name": "stdout",
     "output_type": "stream",
     "text": [
      "The second complex number modulus is 2.6457513110645907 and its conjungate is 4+1i\n",
      "Their difference is -2+4i and there quotient is 0.7142857142857143+2.0i\n"
     ]
    }
   ],
   "source": [
    "import math\n",
    "\n",
    "c2_modulus_squared = cr2^2 + ci2^2\n",
    "c2_modulus = math.sqrt(c2_modulus_squared)\n",
    "c2_conjungate = f\"{cr2}+{-ci2}i\"\n",
    "print(f\"The second complex number modulus is {c2_modulus} and its conjungate is {c2_conjungate}\")\n",
    "\n",
    "print(f\"Their difference is {cr1-cr2}+{ci1-ci2}i and there quotient is {(cr1*cr2+ci1*ci2)/c2_modulus_squared}+{(cr2*ci1-cr1*ci2)/c2_modulus_squared}i\")"
   ]
  }
 ],
 "metadata": {
  "kernelspec": {
   "display_name": "Python 3",
   "language": "python",
   "name": "python3"
  },
  "language_info": {
   "codemirror_mode": {
    "name": "ipython",
    "version": 3
   },
   "file_extension": ".py",
   "mimetype": "text/x-python",
   "name": "python",
   "nbconvert_exporter": "python",
   "pygments_lexer": "ipython3",
   "version": "3.10.13"
  }
 },
 "nbformat": 4,
 "nbformat_minor": 2
}
