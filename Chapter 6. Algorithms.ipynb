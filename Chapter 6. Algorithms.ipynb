{
 "cells": [
  {
   "cell_type": "markdown",
   "metadata": {},
   "source": [
    "# Chapter 6. Algorithms"
   ]
  },
  {
   "cell_type": "markdown",
   "metadata": {},
   "source": [
    "**Deutsch Algorithm**"
   ]
  },
  {
   "cell_type": "code",
   "execution_count": 10,
   "metadata": {},
   "outputs": [
    {
     "name": "stdout",
     "output_type": "stream",
     "text": [
      "lambda x: 0 ➡️ False\n",
      "lambda x: x ➡️ True\n",
      "lambda x: (x + 1) % 2 ➡️ True\n",
      "lambda x: 1**x ➡️ False\n"
     ]
    }
   ],
   "source": [
    "def is_balance_classic(f: callable) -> bool:\n",
    "  o0 = f(0)\n",
    "  o1 = f(1)\n",
    "  if o0 == o1:\n",
    "    return False\n",
    "  return True\n",
    "\n",
    "print(\"lambda x: 0 ➡️\", is_balance_classic(lambda x: 0))\n",
    "print(\"lambda x: x ➡️\", is_balance_classic(lambda x: x))\n",
    "print(\"lambda x: (x + 1) % 2 ➡️\", is_balance_classic(lambda x: (x + 1) % 2))\n",
    "print(\"lambda x: 1**x ➡️\", is_balance_classic(lambda x: 1**x))"
   ]
  },
  {
   "cell_type": "code",
   "execution_count": 11,
   "metadata": {},
   "outputs": [
    {
     "name": "stdout",
     "output_type": "stream",
     "text": [
      "[[1, 1], [0, 0]]\n",
      "[[1, 0], [0, 1]]\n",
      "[[0, 1], [1, 0]]\n",
      "[[0, 0], [1, 1]]\n"
     ]
    }
   ],
   "source": [
    "def build_matrix_from_function(f: callable):\n",
    "  A = []\n",
    "  for i in range(2):\n",
    "    A.append([])\n",
    "    for j in range(2):\n",
    "      if f(j) == i:\n",
    "        A[i].append(1)\n",
    "      else:\n",
    "        A[i].append(0)\n",
    "  return A\n",
    "\n",
    "print(build_matrix_from_function(lambda x: 0))\n",
    "print(build_matrix_from_function(lambda x: x))\n",
    "print(build_matrix_from_function(lambda x: (x + 1) % 2))\n",
    "print(build_matrix_from_function(lambda x: 1**x))"
   ]
  },
  {
   "cell_type": "code",
   "execution_count": 12,
   "metadata": {},
   "outputs": [
    {
     "name": "stdout",
     "output_type": "stream",
     "text": [
      "[[1, 0, 0, 0], [0, 1, 0, 0], [0, 0, 1, 0], [0, 0, 0, 1]]\n",
      "[[1, 0, 0, 0], [0, 1, 0, 0], [0, 0, 0, 1], [0, 0, 1, 0]]\n",
      "[[0, 1, 0, 0], [1, 0, 0, 0], [0, 0, 1, 0], [0, 0, 0, 1]]\n",
      "[[0, 1, 0, 0], [1, 0, 0, 0], [0, 0, 0, 1], [0, 0, 1, 0]]\n"
     ]
    }
   ],
   "source": [
    "def build_unitary_matrix_from_function(f: callable):\n",
    "  A = []\n",
    "  for i1 in range(2):\n",
    "    for i2 in range(2):\n",
    "      A.append([])\n",
    "      for j1 in range(2):\n",
    "        for j2 in range(2):\n",
    "          if j1 == i1 and (f(j1) + j2) % 2 == i2:\n",
    "            A[-1].append(1)\n",
    "          else:\n",
    "            A[-1].append(0)\n",
    "  return A\n",
    "\n",
    "print(build_unitary_matrix_from_function(lambda x: 0))\n",
    "print(build_unitary_matrix_from_function(lambda x: x))\n",
    "print(build_unitary_matrix_from_function(lambda x: (x + 1) % 2))\n",
    "print(build_unitary_matrix_from_function(lambda x: 1**x))"
   ]
  },
  {
   "cell_type": "code",
   "execution_count": 13,
   "metadata": {},
   "outputs": [],
   "source": [
    "# Utility functions for matrix operations\n",
    "\n",
    "def tensor_product(A: list[list[complex]], B: list[list[complex]]):\n",
    "  res = []\n",
    "  for i in range(len(A)):\n",
    "    for j in range(len(B)):\n",
    "      res.append([])\n",
    "      for k in range(len(A[0])):\n",
    "        for l in range(len(B[0])):\n",
    "          res[i*len(B) + j].append(A[i][k]*B[j][l])\n",
    "  return res\n",
    "\n",
    "def multiply_matrixes(A: list[list[complex]], B: list[list[complex]]):\n",
    "  ma = len(A)\n",
    "  na = len(A[0])\n",
    "  mb = len(B)\n",
    "  nb = len(B[0])\n",
    "  if na != mb:\n",
    "    raise Exception(\"Inappropriate size!\")\n",
    "  res = []\n",
    "  for i in range(ma):\n",
    "    res.append([])\n",
    "    for j in range(nb):\n",
    "      sum = 0\n",
    "      for k in range(na):\n",
    "        sum += A[i][k]*B[k][j]\n",
    "      res[i].append(sum)\n",
    "  return res\n",
    "\n",
    "def transpose_matrix(A: list[list[complex]]):\n",
    "  AT = []\n",
    "  for i in range(len(A[0])):\n",
    "    AT.append([])\n",
    "    for j in range(len(A)):\n",
    "      AT[i].append(A[j][i])\n",
    "  return AT\n",
    "\n",
    "def apply_matrix(matrix, vector):\n",
    "  return transpose_matrix(multiply_matrixes(matrix, transpose_matrix([vector])))[0]"
   ]
  },
  {
   "cell_type": "code",
   "execution_count": 14,
   "metadata": {},
   "outputs": [
    {
     "name": "stdout",
     "output_type": "stream",
     "text": [
      "\u001b[90mThe probabilities of the system in states |00>, |01>, |10>, |11> are 0.5000000000000002, 0.5000000000000002, 0.0, 0.0\u001b[0m\n",
      "lambda x: 0 ➡️ False\n",
      "\u001b[90mThe probabilities of the system in states |00>, |01>, |10>, |11> are 0.0, 0.0, 0.5000000000000002, 0.5000000000000002\u001b[0m\n",
      "lambda x: x ➡️ True\n",
      "\u001b[90mThe probabilities of the system in states |00>, |01>, |10>, |11> are 0.0, 0.0, 0.5000000000000002, 0.5000000000000002\u001b[0m\n",
      "lambda x: (x + 1) % 2 ➡️ True\n",
      "\u001b[90mThe probabilities of the system in states |00>, |01>, |10>, |11> are 0.5000000000000002, 0.5000000000000002, 0.0, 0.0\u001b[0m\n",
      "lambda x: 1**x ➡️ False\n"
     ]
    }
   ],
   "source": [
    "def is_balance_quantum(F: list[list[complex]]):\n",
    "  state0 = [0, 1, 0, 0] # |01>\n",
    "\n",
    "  HH = tensor_product(\n",
    "    [\n",
    "      [0.5**0.5, 0.5**0.5],                                                                  \n",
    "      [0.5**0.5, -0.5**0.5]\n",
    "    ],\n",
    "    [\n",
    "      [0.5**0.5, 0.5**0.5],                                                                  \n",
    "      [0.5**0.5, -0.5**0.5]\n",
    "    ]\n",
    "  )\n",
    "\n",
    "  state1 = apply_matrix(HH, state0) # (|00> - |01> + |10> - |11>)/2\n",
    "  \n",
    "  state2 = apply_matrix(F, state1) # (-1^f(0)|0> + (-1)^f(1)|1>)(|0> - |1>)/2\n",
    "\n",
    "  HI = tensor_product(\n",
    "    [\n",
    "      [0.5**0.5, 0.5**0.5],                                                                  \n",
    "      [0.5**0.5, -0.5**0.5]\n",
    "    ],\n",
    "    [\n",
    "      [1, 0],\n",
    "      [0, 1]\n",
    "    ]\n",
    "  )\n",
    "\n",
    "  state3 = apply_matrix(HI, state2) # (+-1)|0>(|0> - |1>)/√2 if F is constant or (+-1)|1>(|0> - |1>)/√2 if F is balanced\n",
    "\n",
    "  print('\\033[90m', f\"The probabilities of the system in states |00>, |01>, |10>, |11> are {state3[0]**2}, {state3[1]**2}, {state3[2]**2}, {state3[3]**2}\", '\\033[0m', sep='')\n",
    "  \n",
    "  the_probabity_that_the_top_qubit_is_in_state_one = state3[2]**2 + state3[3]**2\n",
    "  return abs(the_probabity_that_the_top_qubit_is_in_state_one - 1) < 1e-10 # the top qubit is in state |1>, conclusion: the function is balanced\n",
    "\n",
    "print(\"lambda x: 0 ➡️\", is_balance_quantum(build_unitary_matrix_from_function(lambda x: 0)))\n",
    "print(\"lambda x: x ➡️\", is_balance_quantum(build_unitary_matrix_from_function(lambda x: x)))\n",
    "print(\"lambda x: (x + 1) % 2 ➡️\", is_balance_quantum(build_unitary_matrix_from_function(lambda x: (x + 1) % 2)))\n",
    "print(\"lambda x: 1**x ➡️\", is_balance_quantum(build_unitary_matrix_from_function(lambda x: 1**x)))"
   ]
  },
  {
   "cell_type": "markdown",
   "metadata": {},
   "source": [
    "**Deutsch–Jozsa Algorithm**"
   ]
  },
  {
   "cell_type": "code",
   "execution_count": 15,
   "metadata": {},
   "outputs": [
    {
     "name": "stdout",
     "output_type": "stream",
     "text": [
      "A function which always return 0:  False\n",
      "\u001b[90mExecution time: 0.00038909912109375s\u001b[0m\n",
      "A function which always return 1:  False\n",
      "\u001b[90mExecution time: 0.00015807151794433594s\u001b[0m\n",
      "A function returns 0 when input is even and 1 if input is odd:  True\n",
      "\u001b[90mExecution time: 4.76837158203125e-06s\u001b[0m\n",
      "A function returns 1 for the first half of the domain and returns 0 for the other half:  True\n",
      "\u001b[90mExecution time: 0.0006301403045654297s\u001b[0m\n"
     ]
    }
   ],
   "source": [
    "def is_balance_classic(f: callable, n: int) -> bool:\n",
    "  f0 = f(0, n)\n",
    "  for i in range(2**n // 2):\n",
    "    if f(i + 1, n) != f0:\n",
    "      return True # At least one element of the domain returns a different value => So it cannot be a const function\n",
    "  return False # More than half (half + 1) elements of the domain return the same value => the remaining elements will also return the same value\n",
    "\n",
    "from time import time\n",
    "\n",
    "def benchmark(f: callable):\n",
    "  start_time = time()\n",
    "  f()\n",
    "  exec_time = time() - start_time\n",
    "  print('\\033[90m', \"Execution time: \", exec_time, \"s\", '\\033[0m', sep='')\n",
    "\n",
    "benchmark(lambda: print(\"A function which always return 0: \", is_balance_classic(lambda x, n: 0, 12)))\n",
    "benchmark(lambda: print(\"A function which always return 1: \", is_balance_classic(lambda x, n: 1, 12)))\n",
    "benchmark(lambda: print(\"A function returns 0 when input is even and 1 if input is odd: \", is_balance_classic(lambda x, n: x % 2, 12)))\n",
    "benchmark(lambda: print(\"A function returns 1 for the first half of the domain and returns 0 for the other half: \", is_balance_classic(lambda x, n: 0 if x >= 2**(n - 1) else 1, 12)))"
   ]
  },
  {
   "cell_type": "code",
   "execution_count": 16,
   "metadata": {},
   "outputs": [
    {
     "name": "stdout",
     "output_type": "stream",
     "text": [
      "[[0, 1, 0, 0, 0, 0, 0, 0], [1, 0, 0, 0, 0, 0, 0, 0], [0, 0, 0, 1, 0, 0, 0, 0], [0, 0, 1, 0, 0, 0, 0, 0], [0, 0, 0, 0, 1, 0, 0, 0], [0, 0, 0, 0, 0, 1, 0, 0], [0, 0, 0, 0, 0, 0, 1, 0], [0, 0, 0, 0, 0, 0, 0, 1]]\n"
     ]
    }
   ],
   "source": [
    "def build_uf(f: callable, n: int):\n",
    "  A = []\n",
    "  for output_target in range(2**n):\n",
    "    for output_control in range(2):\n",
    "      A.append([])\n",
    "      for input_target in range(2**n):\n",
    "        for input_control in range(2):\n",
    "          if output_target == input_target and (f(input_target, n) + input_control) % 2 == output_control:\n",
    "            A[-1].append(1)\n",
    "          else:\n",
    "            A[-1].append(0)\n",
    "  return A\n",
    "\n",
    "print(build_uf(lambda x, n: 0 if x >= 2**(n - 1) else 1, 2))"
   ]
  },
  {
   "cell_type": "code",
   "execution_count": 17,
   "metadata": {},
   "outputs": [
    {
     "name": "stdout",
     "output_type": "stream",
     "text": [
      "[[0.5, 0.5, 0.5, 0.5], [0.5, -0.5, 0.5, -0.5], [0.5, 0.5, -0.5, -0.5], [0.5, -0.5, -0.5, 0.5]]\n"
     ]
    }
   ],
   "source": [
    "def check_sign(x: int, y: int):\n",
    "    # Convert number to binary string\n",
    "    return (-1)**(sum([int(x) for x in bin(x & y)[2:]]) % 2)\n",
    "\n",
    "def build_hadamard(n: int):\n",
    "    A = []\n",
    "    for i in range(2**n):\n",
    "        A.append([])\n",
    "        for j in range(2**n):\n",
    "            A[-1].append(2**(-n/2) * check_sign(i, j))\n",
    "    return A\n",
    "\n",
    "print(build_hadamard(2))\n",
    "\n",
    "def build_unitary(n: int):\n",
    "    A = []\n",
    "    for i in range(2**n):\n",
    "        A.append([])\n",
    "        for j in range(2**n):\n",
    "            if i == j:\n",
    "                A[-1].append(1)\n",
    "            else:\n",
    "                A[-1].append(0)\n",
    "    return A"
   ]
  },
  {
   "cell_type": "code",
   "execution_count": 18,
   "metadata": {},
   "outputs": [
    {
     "name": "stdout",
     "output_type": "stream",
     "text": [
      "|φ0> = [0, 1, 0, 0, 0, 0, 0, 0]\n",
      "|φ1> = [0.3535533905932738, -0.3535533905932738, 0.3535533905932738, -0.3535533905932738, 0.3535533905932738, -0.3535533905932738, 0.3535533905932738, -0.3535533905932738]\n",
      "|φ2> = [0.3535533905932738, -0.3535533905932738, 0.3535533905932738, -0.3535533905932738, 0.3535533905932738, -0.3535533905932738, 0.3535533905932738, -0.3535533905932738]\n",
      "|φ3> = [0.7071067811865476, -0.7071067811865476, 0.0, 0.0, 0.0, 0.0, 0.0, 0.0]\n",
      "A function which always return 0:  Constant\n",
      "|φ0> = [0, 1, 0, 0, 0, 0, 0, 0]\n",
      "|φ1> = [0.3535533905932738, -0.3535533905932738, 0.3535533905932738, -0.3535533905932738, 0.3535533905932738, -0.3535533905932738, 0.3535533905932738, -0.3535533905932738]\n",
      "|φ2> = [-0.3535533905932738, 0.3535533905932738, -0.3535533905932738, 0.3535533905932738, -0.3535533905932738, 0.3535533905932738, -0.3535533905932738, 0.3535533905932738]\n",
      "|φ3> = [-0.7071067811865476, 0.7071067811865476, 0.0, 0.0, 0.0, 0.0, 0.0, 0.0]\n",
      "A function which always return 1:  Constant\n",
      "|φ0> = [0, 1, 0, 0, 0, 0, 0, 0]\n",
      "|φ1> = [0.3535533905932738, -0.3535533905932738, 0.3535533905932738, -0.3535533905932738, 0.3535533905932738, -0.3535533905932738, 0.3535533905932738, -0.3535533905932738]\n",
      "|φ2> = [0.3535533905932738, -0.3535533905932738, -0.3535533905932738, 0.3535533905932738, 0.3535533905932738, -0.3535533905932738, -0.3535533905932738, 0.3535533905932738]\n",
      "|φ3> = [0.0, 0.0, 0.7071067811865476, -0.7071067811865476, 0.0, 0.0, 0.0, 0.0]\n",
      "A function returns 0 when input is even and 1 if input is odd:  Balanced\n",
      "|φ0> = [0, 1, 0, 0, 0, 0, 0, 0]\n",
      "|φ1> = [0.3535533905932738, -0.3535533905932738, 0.3535533905932738, -0.3535533905932738, 0.3535533905932738, -0.3535533905932738, 0.3535533905932738, -0.3535533905932738]\n",
      "|φ2> = [-0.3535533905932738, 0.3535533905932738, -0.3535533905932738, 0.3535533905932738, 0.3535533905932738, -0.3535533905932738, 0.3535533905932738, -0.3535533905932738]\n",
      "|φ3> = [0.0, 0.0, 0.0, 0.0, -0.7071067811865476, 0.7071067811865476, 0.0, 0.0]\n",
      "A function returns 1 for the first half of the domain and returns 0 for the other half:  Balanced\n"
     ]
    }
   ],
   "source": [
    "def deutsch_jozsa(f: callable, n: int):\n",
    "    # This step would be time costly, but it is not a part of the algorithm.\n",
    "    Uf = build_uf(f, n)\n",
    "\n",
    "    # Hadamard transformation to create a superposition of all basis states\n",
    "    Hn = build_hadamard(n)\n",
    "    H = build_hadamard(1)\n",
    "\n",
    "    # Start algorithm\n",
    "    state = []\n",
    "    for top in range(2**n):\n",
    "        for bottom in range(2):\n",
    "            if top == 0 and bottom == 1:\n",
    "                state.append(1)\n",
    "            else:\n",
    "                state.append(0)\n",
    "    print(\"|φ0> =\", state)\n",
    "\n",
    "    # Remember: states are not \"cloneable\", they \"evolve\" instead.\n",
    "    state = apply_matrix(tensor_product(Hn, H), state)\n",
    "    print(\"|φ1> =\", state)\n",
    "\n",
    "    state = apply_matrix(Uf, state)\n",
    "    print(\"|φ2> =\", state)\n",
    "\n",
    "    state = apply_matrix(tensor_product(Hn, build_unitary(1)), state)\n",
    "    print(\"|φ3> =\", state)\n",
    "\n",
    "    # Measure the top qubit\n",
    "    probability_of_top_0 = state[0]**2 + state[1]**2 # there are 2 particular states with the top qubit in 00: |00,0> and |00,1>\n",
    "    return \"Constant\" if probability_of_top_0 > 0 else \"Balanced\" # ...we will only get |0⟩ if the function is constant. If anything else is found after being measured, then the function is balanced.\n",
    "\n",
    "print(\"A function which always return 0: \", deutsch_jozsa(lambda x, n: 0, 2))\n",
    "print(\"A function which always return 1: \", deutsch_jozsa(lambda x, n: 1, 2))\n",
    "print(\"A function returns 0 when input is even and 1 if input is odd: \", deutsch_jozsa(lambda x, n: x % 2, 2))\n",
    "print(\"A function returns 1 for the first half of the domain and returns 0 for the other half: \", deutsch_jozsa(lambda x, n: 0 if x >= 2**(n - 1) else 1, 2))"
   ]
  }
 ],
 "metadata": {
  "kernelspec": {
   "display_name": "Python 3",
   "language": "python",
   "name": "python3"
  },
  "language_info": {
   "codemirror_mode": {
    "name": "ipython",
    "version": 3
   },
   "file_extension": ".py",
   "mimetype": "text/x-python",
   "name": "python",
   "nbconvert_exporter": "python",
   "pygments_lexer": "ipython3",
   "version": "3.9.6"
  }
 },
 "nbformat": 4,
 "nbformat_minor": 2
}
