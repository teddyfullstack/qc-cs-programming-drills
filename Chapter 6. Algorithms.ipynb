{
 "cells": [
  {
   "cell_type": "markdown",
   "metadata": {},
   "source": [
    "# Chapter 6. Algorithms"
   ]
  },
  {
   "cell_type": "markdown",
   "metadata": {},
   "source": [
    "**Deutsch Algorithm**"
   ]
  },
  {
   "cell_type": "code",
   "execution_count": 53,
   "metadata": {},
   "outputs": [
    {
     "name": "stdout",
     "output_type": "stream",
     "text": [
      "lambda x: 0 ➡️ False\n",
      "lambda x: x ➡️ True\n",
      "lambda x: (x + 1) % 2 ➡️ True\n",
      "lambda x: 1**x ➡️ False\n"
     ]
    }
   ],
   "source": [
    "def is_balance_classic(f: callable) -> bool:\n",
    "  o0 = f(0)\n",
    "  o1 = f(1)\n",
    "  if o0 == o1:\n",
    "    return False\n",
    "  return True\n",
    "\n",
    "print(\"lambda x: 0 ➡️\", is_balance_classic(lambda x: 0))\n",
    "print(\"lambda x: x ➡️\", is_balance_classic(lambda x: x))\n",
    "print(\"lambda x: (x + 1) % 2 ➡️\", is_balance_classic(lambda x: (x + 1) % 2))\n",
    "print(\"lambda x: 1**x ➡️\", is_balance_classic(lambda x: 1**x))"
   ]
  },
  {
   "cell_type": "code",
   "execution_count": 54,
   "metadata": {},
   "outputs": [
    {
     "name": "stdout",
     "output_type": "stream",
     "text": [
      "[[1, 1], [0, 0]]\n",
      "[[1, 0], [0, 1]]\n",
      "[[0, 1], [1, 0]]\n",
      "[[0, 0], [1, 1]]\n"
     ]
    }
   ],
   "source": [
    "def build_matrix_from_function(f: callable):\n",
    "  A = []\n",
    "  for i in range(2):\n",
    "    A.append([])\n",
    "    for j in range(2):\n",
    "      if f(j) == i:\n",
    "        A[i].append(1)\n",
    "      else:\n",
    "        A[i].append(0)\n",
    "  return A\n",
    "\n",
    "print(build_matrix_from_function(lambda x: 0))\n",
    "print(build_matrix_from_function(lambda x: x))\n",
    "print(build_matrix_from_function(lambda x: (x + 1) % 2))\n",
    "print(build_matrix_from_function(lambda x: 1**x))"
   ]
  },
  {
   "cell_type": "code",
   "execution_count": 55,
   "metadata": {},
   "outputs": [
    {
     "name": "stdout",
     "output_type": "stream",
     "text": [
      "[[1, 0, 0, 0], [0, 1, 0, 0], [0, 0, 1, 0], [0, 0, 0, 1]]\n",
      "[[1, 0, 0, 0], [0, 1, 0, 0], [0, 0, 0, 1], [0, 0, 1, 0]]\n",
      "[[0, 1, 0, 0], [1, 0, 0, 0], [0, 0, 1, 0], [0, 0, 0, 1]]\n",
      "[[0, 1, 0, 0], [1, 0, 0, 0], [0, 0, 0, 1], [0, 0, 1, 0]]\n"
     ]
    }
   ],
   "source": [
    "def build_unitary_matrix_from_function(f: callable):\n",
    "  A = []\n",
    "  for i1 in range(2):\n",
    "    for i2 in range(2):\n",
    "      A.append([])\n",
    "      for j1 in range(2):\n",
    "        for j2 in range(2):\n",
    "          if j1 == i1 and (f(j1) + j2) % 2 == i2:\n",
    "            A[-1].append(1)\n",
    "          else:\n",
    "            A[-1].append(0)\n",
    "  return A\n",
    "\n",
    "print(build_unitary_matrix_from_function(lambda x: 0))\n",
    "print(build_unitary_matrix_from_function(lambda x: x))\n",
    "print(build_unitary_matrix_from_function(lambda x: (x + 1) % 2))\n",
    "print(build_unitary_matrix_from_function(lambda x: 1**x))"
   ]
  },
  {
   "cell_type": "code",
   "execution_count": 56,
   "metadata": {},
   "outputs": [],
   "source": [
    "# Utility functions for matrix operations\n",
    "\n",
    "def tensor_product(A: list[list[complex]], B: list[list[complex]]):\n",
    "  res = []\n",
    "  for i in range(len(A)):\n",
    "    for j in range(len(B)):\n",
    "      res.append([])\n",
    "      for k in range(len(A[0])):\n",
    "        for l in range(len(B[0])):\n",
    "          res[i*len(B) + j].append(A[i][k]*B[j][l])\n",
    "  return res\n",
    "\n",
    "def multiply_matrixes(A: list[list[complex]], B: list[list[complex]]):\n",
    "  ma = len(A)\n",
    "  na = len(A[0])\n",
    "  mb = len(B)\n",
    "  nb = len(B[0])\n",
    "  if na != mb:\n",
    "    raise Exception(\"Inappropriate size!\")\n",
    "  res = []\n",
    "  for i in range(ma):\n",
    "    res.append([])\n",
    "    for j in range(nb):\n",
    "      sum = 0\n",
    "      for k in range(na):\n",
    "        sum += A[i][k]*B[k][j]\n",
    "      res[i].append(sum)\n",
    "  return res\n",
    "\n",
    "def transpose_matrix(A: list[list[complex]]):\n",
    "  AT = []\n",
    "  for i in range(len(A[0])):\n",
    "    AT.append([])\n",
    "    for j in range(len(A)):\n",
    "      AT[i].append(A[j][i])\n",
    "  return AT\n",
    "\n",
    "def perform_action(matrix, vector):\n",
    "  return transpose_matrix(multiply_matrixes(matrix, transpose_matrix([vector])))[0]"
   ]
  },
  {
   "cell_type": "code",
   "execution_count": 57,
   "metadata": {},
   "outputs": [
    {
     "name": "stdout",
     "output_type": "stream",
     "text": [
      "\u001b[90mThe probabilities of the system in states |00>, |01>, |10>, |11> are 0.5000000000000002, 0.5000000000000002, 0.0, 0.0\u001b[0m\n",
      "lambda x: 0 ➡️ False\n",
      "\u001b[90mThe probabilities of the system in states |00>, |01>, |10>, |11> are 0.0, 0.0, 0.5000000000000002, 0.5000000000000002\u001b[0m\n",
      "lambda x: x ➡️ True\n",
      "\u001b[90mThe probabilities of the system in states |00>, |01>, |10>, |11> are 0.0, 0.0, 0.5000000000000002, 0.5000000000000002\u001b[0m\n",
      "lambda x: (x + 1) % 2 ➡️ True\n",
      "\u001b[90mThe probabilities of the system in states |00>, |01>, |10>, |11> are 0.5000000000000002, 0.5000000000000002, 0.0, 0.0\u001b[0m\n",
      "lambda x: 1**x ➡️ False\n"
     ]
    }
   ],
   "source": [
    "def is_balance_quantum(F: list[list[complex]]):\n",
    "  state0 = [0, 1, 0, 0] # |01>\n",
    "\n",
    "  HH = tensor_product(\n",
    "    [\n",
    "      [0.5**0.5, 0.5**0.5],                                                                  \n",
    "      [0.5**0.5, -0.5**0.5]\n",
    "    ],\n",
    "    [\n",
    "      [0.5**0.5, 0.5**0.5],                                                                  \n",
    "      [0.5**0.5, -0.5**0.5]\n",
    "    ]\n",
    "  )\n",
    "\n",
    "  state1 = perform_action(HH, state0) # (|00> - |01> + |10> - |11>)/2\n",
    "  \n",
    "  state2 = perform_action(F, state1) # (-1^f(0)|0> + (-1)^f(1)|1>)(|0> - |1>)/2\n",
    "\n",
    "  HI = tensor_product(\n",
    "    [\n",
    "      [0.5**0.5, 0.5**0.5],                                                                  \n",
    "      [0.5**0.5, -0.5**0.5]\n",
    "    ],\n",
    "    [\n",
    "      [1, 0],\n",
    "      [0, 1]\n",
    "    ]\n",
    "  )\n",
    "\n",
    "  state3 = perform_action(HI, state2) # (+-1)|0>(|0> - |1>)/√2 if F is constant or (+-1)|1>(|0> - |1>)/√2 if F is balanced\n",
    "\n",
    "  print('\\033[90m', f\"The probabilities of the system in states |00>, |01>, |10>, |11> are {state3[0]**2}, {state3[1]**2}, {state3[2]**2}, {state3[3]**2}\", '\\033[0m', sep='')\n",
    "  \n",
    "  the_probabity_that_the_top_qubit_is_in_state_one = state3[2]**2 + state3[3]**2\n",
    "  return abs(the_probabity_that_the_top_qubit_is_in_state_one - 1) < 1e-10 # the top qubit is in state |1>, conclusion: the function is balanced\n",
    "\n",
    "print(\"lambda x: 0 ➡️\", is_balance_quantum(build_unitary_matrix_from_function(lambda x: 0)))\n",
    "print(\"lambda x: x ➡️\", is_balance_quantum(build_unitary_matrix_from_function(lambda x: x)))\n",
    "print(\"lambda x: (x + 1) % 2 ➡️\", is_balance_quantum(build_unitary_matrix_from_function(lambda x: (x + 1) % 2)))\n",
    "print(\"lambda x: 1**x ➡️\", is_balance_quantum(build_unitary_matrix_from_function(lambda x: 1**x)))"
   ]
  }
 ],
 "metadata": {
  "kernelspec": {
   "display_name": "Python 3",
   "language": "python",
   "name": "python3"
  },
  "language_info": {
   "codemirror_mode": {
    "name": "ipython",
    "version": 3
   },
   "file_extension": ".py",
   "mimetype": "text/x-python",
   "name": "python",
   "nbconvert_exporter": "python",
   "pygments_lexer": "ipython3",
   "version": "3.9.6"
  }
 },
 "nbformat": 4,
 "nbformat_minor": 2
}
