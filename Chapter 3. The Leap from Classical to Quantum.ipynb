{
 "cells": [
  {
   "cell_type": "markdown",
   "metadata": {},
   "source": [
    "# Chapter 3. The Leap from Classical to Quantum"
   ]
  },
  {
   "cell_type": "markdown",
   "metadata": {},
   "source": [
    "\n",
    "**Programming Drill 3.1.1** Write a program that performs our little marble experiment. The program should allow the user to enter a Boolean matrix that describes the ways that marbles move. Make sure that the matrix follows our requirement. The user should also be permitted to enter a starting state of how many marbles are on each vertex. Then the user enters how many time clicks she wants to proceed. The computer should then calculate and output the state of the system after those time clicks. We will make changes to this program later in the chapter.\n"
   ]
  },
  {
   "cell_type": "code",
   "execution_count": 21,
   "metadata": {},
   "outputs": [
    {
     "name": "stdout",
     "output_type": "stream",
     "text": [
      "[0, 0, 12, 5, 1, 9]\n",
      "Act 0 [1, 1, 1, 1, 1, 1, 1, 1, 1]\n",
      "Act 1 [1, 1, 0, 1, 0, 1, 0, 2, 3]\n",
      "Act 2 [1, 1, 0, 1, 0, 0, 0, 0, 6]\n",
      "Act 3 [1, 1, 0, 1, 0, 0, 0, 0, 6]\n",
      "Act 4 [1, 1, 0, 1, 0, 0, 0, 0, 6]\n",
      "Act 5 [1, 1, 0, 1, 0, 0, 0, 0, 6]\n",
      "Act 6 [1, 1, 0, 1, 0, 0, 0, 0, 6]\n",
      "Act 7 [1, 1, 0, 1, 0, 0, 0, 0, 6]\n",
      "Act 8 [1, 1, 0, 1, 0, 0, 0, 0, 6]\n",
      "Act 9 [1, 1, 0, 1, 0, 0, 0, 0, 6]\n"
     ]
    }
   ],
   "source": [
    "def multiply_matrixes(A: list[list[complex]], B: list[list[complex]]):\n",
    "  ma = len(A)\n",
    "  na = len(A[0])\n",
    "  mb = len(B)\n",
    "  nb = len(B[0])\n",
    "  if na != mb:\n",
    "    raise Exception(\"Inappropriate size!\")\n",
    "  res = []\n",
    "  for i in range(ma):\n",
    "    res.append([])\n",
    "    for j in range(nb):\n",
    "      sum = 0\n",
    "      for k in range(na):\n",
    "        sum += A[i][k]*B[k][j]\n",
    "      res[i].append(sum)\n",
    "  return res\n",
    "\n",
    "def transpose_matrix(A: list[list[complex]]):\n",
    "  AT = []\n",
    "  for i in range(len(A[0])):\n",
    "    AT.append([])\n",
    "    for j in range(len(A)):\n",
    "      AT[i].append(A[j][i])\n",
    "  return AT\n",
    "\n",
    "def evolve(dynamic, state, clicks = 1):\n",
    "  if clicks == 0:\n",
    "    return state\n",
    "  return evolve(dynamic, transpose_matrix(multiply_matrixes(dynamic, transpose_matrix([state])))[0], clicks - 1)\n",
    "\n",
    "print(evolve(\n",
    "  [\n",
    "    [0, 0, 0, 0, 0, 0],\n",
    "    [0, 0, 0, 0, 0, 0],\n",
    "    [0, 1, 0, 0, 0, 1],\n",
    "    [0, 0, 0, 1, 0, 0],\n",
    "    [0, 0, 1, 0, 0, 0],\n",
    "    [1, 0, 0, 0, 1, 0]\n",
    "  ],\n",
    "  [6, 2, 1, 5, 3, 10]\n",
    "))\n",
    "\n",
    "for c in range(10):\n",
    "  print(f\"Act {c}\", evolve(\n",
    "    [\n",
    "      [0, 1, 0, 0, 0, 0, 0, 0, 0],\n",
    "      [1, 0, 0, 0, 0, 0, 0, 0, 0],\n",
    "      [0, 0, 0, 0, 0, 0, 0, 0, 0],\n",
    "      [0, 0, 0, 1, 0, 0, 0, 0, 0],\n",
    "      [0, 0, 0, 0, 0, 0, 0, 0, 0],\n",
    "      [0, 0, 1, 0, 0, 0, 0, 0, 0],\n",
    "      [0, 0, 0, 0, 0, 0, 0, 0, 0],\n",
    "      [0, 0, 0, 0, 1, 0, 1, 0, 0],\n",
    "      [0, 0, 0, 0, 0, 1, 0, 1, 1],\n",
    "    ],\n",
    "    [1, 1, 1, 1, 1, 1, 1, 1, 1],\n",
    "    c\n",
    "  ))"
   ]
  }
 ],
 "metadata": {
  "kernelspec": {
   "display_name": "Python 3",
   "language": "python",
   "name": "python3"
  },
  "language_info": {
   "codemirror_mode": {
    "name": "ipython",
    "version": 3
   },
   "file_extension": ".py",
   "mimetype": "text/x-python",
   "name": "python",
   "nbconvert_exporter": "python",
   "pygments_lexer": "ipython3",
   "version": "3.10.13"
  }
 },
 "nbformat": 4,
 "nbformat_minor": 2
}
