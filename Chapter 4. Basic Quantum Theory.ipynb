{
 "cells": [
  {
   "cell_type": "markdown",
   "metadata": {},
   "source": [
    "# Chapter 4. Basic Quantum Theory"
   ]
  },
  {
   "cell_type": "markdown",
   "metadata": {},
   "source": [
    "**Programming Drill 4.1.1** Write a program that simulates the first quantum system described in this section. The user should be able to specify how many points the particle can occupy (warning: keep the max number low, or you will fairly quickly run out of memory). The user will also specify a ket state vector by assigning its amplitudes.\n",
    "\n",
    "The program, when asked the likelihood of finding the particle at a given point, will perform the calculations described in Example 4.1.1. If the user enters two kets, the system will calculate the probability of transitioning from the first ket to the second, after an observation has been made."
   ]
  },
  {
   "cell_type": "code",
   "execution_count": 18,
   "metadata": {},
   "outputs": [
    {
     "name": "stdout",
     "output_type": "stream",
     "text": [
      "The possibilities that the particle would be at each entry:  [0.5263157894736842, 0.21052631578947367, 0.05263157894736842, 0.21052631578947367]\n",
      "The transition amplitude and its corresponding probability:  (-0.9999999999999998j, 1)\n"
     ]
    }
   ],
   "source": [
    "def ket_to_posibility(ket: list[complex]):\n",
    "  norm_squareds = [c.real**2 + c.imag**2 for c in ket]\n",
    "  total = sum(norm_squareds)\n",
    "  return [ns/total for ns in norm_squareds]\n",
    "\n",
    "print(\"The possibilities that the particle would be at each entry: \", ket_to_posibility([-3-1j, -2j, 1j, 2]))\n",
    "\n",
    "def transpose_matrix(C: list[list[complex]]):\n",
    "  res = []\n",
    "  for i in range(len(C[0])):\n",
    "    res.append([])\n",
    "    for j in range(len(C)):\n",
    "      res[i].append(C[j][i].conjugate())\n",
    "  return res\n",
    "\n",
    "def multiply_matrixes(A: list[list[complex]], B: list[list[complex]]):\n",
    "  ma = len(A)\n",
    "  na = len(A[0])\n",
    "  mb = len(B)\n",
    "  nb = len(B[0])\n",
    "  if na != mb:\n",
    "    raise Exception(\"Inappropriate size!\")\n",
    "  res = []\n",
    "  for i in range(ma):\n",
    "    res.append([])\n",
    "    for j in range(nb):\n",
    "      sum = 0\n",
    "      for k in range(na):\n",
    "        sum += A[i][k]*B[k][j]\n",
    "      res[i].append(sum)\n",
    "  return res\n",
    "\n",
    "def to_column_matrix(row_vector):\n",
    "  return [[row] for row in row_vector]\n",
    "\n",
    "import math\n",
    "\n",
    "def calc_vector_norm(vector: list[int]):\n",
    "  return math.sqrt(sum(c.real**2 + c.imag**2 for c in vector))\n",
    "\n",
    "def calc_transition_amplitude(source, target):\n",
    "  bra = transpose_matrix(to_column_matrix(target))\n",
    "  ket = to_column_matrix(source)\n",
    "  denominator = calc_vector_norm(source)*calc_vector_norm(target)\n",
    "  bracket = multiply_matrixes(bra, ket)[0][0]\n",
    "  amplitude: complex = bracket/denominator\n",
    "  posibility = math.sqrt(amplitude.real**2 + amplitude.imag**2)\n",
    "  return bracket/denominator, round(posibility)\n",
    "\n",
    "print(\"The transition amplitude and its corresponding probability: \", calc_transition_amplitude(\n",
    "  [1, -1j],\n",
    "  [1j, 1]\n",
    "))"
   ]
  }
 ],
 "metadata": {
  "kernelspec": {
   "display_name": "Python 3",
   "language": "python",
   "name": "python3"
  },
  "language_info": {
   "codemirror_mode": {
    "name": "ipython",
    "version": 3
   },
   "file_extension": ".py",
   "mimetype": "text/x-python",
   "name": "python",
   "nbconvert_exporter": "python",
   "pygments_lexer": "ipython3",
   "version": "3.10.13"
  }
 },
 "nbformat": 4,
 "nbformat_minor": 2
}
