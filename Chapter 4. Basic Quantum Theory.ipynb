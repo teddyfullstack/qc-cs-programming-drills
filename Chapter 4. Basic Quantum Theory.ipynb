{
 "cells": [
  {
   "cell_type": "markdown",
   "metadata": {},
   "source": [
    "# Chapter 4. Basic Quantum Theory"
   ]
  },
  {
   "cell_type": "markdown",
   "metadata": {},
   "source": [
    "**Programming Drill 4.1.1** Write a program that simulates the first quantum system described in this section. The user should be able to specify how many points the particle can occupy (warning: keep the max number low, or you will fairly quickly run out of memory). The user will also specify a ket state vector by assigning its amplitudes.\n",
    "\n",
    "The program, when asked the likelihood of finding the particle at a given point, will perform the calculations described in Example 4.1.1. If the user enters two kets, the system will calculate the probability of transitioning from the first ket to the second, after an observation has been made."
   ]
  },
  {
   "cell_type": "code",
   "execution_count": 3,
   "metadata": {},
   "outputs": [
    {
     "name": "stdout",
     "output_type": "stream",
     "text": [
      "The possibilities that the particle would be at each entry:  [0.5263157894736842, 0.21052631578947367, 0.05263157894736842, 0.21052631578947367]\n",
      "The transition amplitude and its corresponding probability:  (-0.9999999999999998j, 1)\n"
     ]
    }
   ],
   "source": [
    "def ket_to_posibility(ket: list[complex]):\n",
    "  norm_squareds = [c.real**2 + c.imag**2 for c in ket]\n",
    "  total = sum(norm_squareds)\n",
    "  return [ns/total for ns in norm_squareds]\n",
    "\n",
    "print(\"The possibilities that the particle would be at each entry: \", ket_to_posibility([-3-1j, -2j, 1j, 2]))\n",
    "\n",
    "def transpose_matrix(C: list[list[complex]]):\n",
    "  res = []\n",
    "  for i in range(len(C[0])):\n",
    "    res.append([])\n",
    "    for j in range(len(C)):\n",
    "      res[i].append(C[j][i].conjugate())\n",
    "  return res\n",
    "\n",
    "def multiply_matrixes(A: list[list[complex]], B: list[list[complex]]):\n",
    "  ma = len(A)\n",
    "  na = len(A[0])\n",
    "  mb = len(B)\n",
    "  nb = len(B[0])\n",
    "  if na != mb:\n",
    "    raise Exception(\"Inappropriate size!\")\n",
    "  res = []\n",
    "  for i in range(ma):\n",
    "    res.append([])\n",
    "    for j in range(nb):\n",
    "      sum = 0\n",
    "      for k in range(na):\n",
    "        sum += A[i][k]*B[k][j]\n",
    "      res[i].append(sum)\n",
    "  return res\n",
    "\n",
    "def to_column_matrix(row_vector):\n",
    "  return [[row] for row in row_vector]\n",
    "\n",
    "import math\n",
    "\n",
    "def calc_vector_norm(vector: list[int]):\n",
    "  return math.sqrt(sum(c.real**2 + c.imag**2 for c in vector))\n",
    "\n",
    "def calc_transition_amplitude(source, target):\n",
    "  bra = transpose_matrix(to_column_matrix(target))\n",
    "  ket = to_column_matrix(source)\n",
    "  denominator = calc_vector_norm(source)*calc_vector_norm(target)\n",
    "  bracket = multiply_matrixes(bra, ket)[0][0]\n",
    "  amplitude: complex = bracket/denominator\n",
    "  posibility = math.sqrt(amplitude.real**2 + amplitude.imag**2)\n",
    "  return bracket/denominator, round(posibility)\n",
    "\n",
    "print(\"The transition amplitude and its corresponding probability: \", calc_transition_amplitude(\n",
    "  [1, -1j],\n",
    "  [1j, 1]\n",
    "))"
   ]
  },
  {
   "cell_type": "markdown",
   "metadata": {},
   "source": [
    "**Programming Drill 4.2.1** Continue your simulation of a quantum system by adding observables to the picture: the user will input a square matrix of the appropriate size, and a ket vector. The program will verify that the matrix is hermitian, and if so, it will calculate the mean value and the variance of the observable on the given state."
   ]
  },
  {
   "cell_type": "code",
   "execution_count": 35,
   "metadata": {},
   "outputs": [
    {
     "name": "stdout",
     "output_type": "stream",
     "text": [
      "True\n",
      "[[1j], [(-1-2j)]]\n",
      "(2.5000000000000004+0j)\n",
      "0j\n",
      "> What then is the mean of Δψ(Ω) itself on the normalized state |ψ⟩? A simple calculation shows that it is precisely zero:  (-4.163336342344337e-16+0j)\n",
      "(0.25+0j)\n"
     ]
    }
   ],
   "source": [
    "def is_hermitian(matrix: list[list[complex]]):\n",
    "  for i in range(len(matrix)):\n",
    "    for j in range(len(matrix[i])):\n",
    "      if matrix[i][j] != matrix[j][i].conjugate():\n",
    "        return False\n",
    "  return True\n",
    "\n",
    "print(is_hermitian([\n",
    "  [-1, -1j],\n",
    "  [1j, 1]\n",
    "])) # Example 4.2.1\n",
    "\n",
    "def apply_observable(ohm, psi):\n",
    "  result = multiply_matrixes(ohm, to_column_matrix(psi))\n",
    "  return result\n",
    "  \n",
    "print(apply_observable([\n",
    "  [-1, -1j],\n",
    "  [1j, 1]\n",
    "], [-1, -1-1j])) # Example 4.2.1\n",
    "\n",
    "def observe_mean(ohm, psi):\n",
    "  target = apply_observable(ohm, psi)\n",
    "  bra = transpose_matrix(target)\n",
    "  ket = to_column_matrix(psi)\n",
    "  mean = multiply_matrixes(bra, ket)[0][0]\n",
    "  return mean\n",
    "\n",
    "print(observe_mean([\n",
    "  [1, -1j],\n",
    "  [1j, 2]\n",
    "], [2**0.5/2, 2**0.5/2*1j])) # Example 4.2.5\n",
    "\n",
    "print(observe_mean([\n",
    "  [3, 1+2j],\n",
    "  [1-2j, -1]\n",
    "], [2**0.5/2, -2**0.5/2])) # Exercise 4.2.9\n",
    "\n",
    "def observe_variance(ohm, psi):\n",
    "  mean = observe_mean(ohm, psi)\n",
    "  mean_identity_matrix = []\n",
    "  for i in range(len(ohm)):\n",
    "    mean_identity_matrix.append([])\n",
    "    for j in range(len(ohm[i])):\n",
    "      if i == j:\n",
    "        mean_identity_matrix[i].append(mean)\n",
    "      else:\n",
    "        mean_identity_matrix[i].append(0)\n",
    "\n",
    "  delta_ohm = []\n",
    "  for i in range(len(ohm)):\n",
    "    delta_ohm.append([])\n",
    "    for j in range(len(ohm[i])):\n",
    "      delta_ohm[i].append(ohm[i][j] - mean_identity_matrix[i][j])\n",
    "  \n",
    "  print(\"> What then is the mean of Δψ(Ω) itself on the normalized state |ψ⟩? A simple calculation shows that it is precisely zero: \", observe_mean(delta_ohm, psi)) # Exercise 4.2.10\n",
    "\n",
    "  delta_ohm_squared = multiply_matrixes(delta_ohm, delta_ohm)\n",
    "\n",
    "  return observe_mean(delta_ohm_squared, psi)\n",
    "\n",
    "print(observe_variance([\n",
    "  [1, -1j],\n",
    "  [1j, 2]\n",
    "], [2**0.5/2, 2**0.5/2*1j])) # Example 4.2.7\n"
   ]
  },
  {
   "cell_type": "markdown",
   "metadata": {},
   "source": [
    "**Programming Drill 4.3.1** Next step in the simulation: when the user enters an observable and a state vector, the program will return the list of eigenvalues of the observable, the mean value of the observable on the state, and the probability that the state will transition to each one of the eigenstates. Optional: plot the corresponding probability distribution."
   ]
  },
  {
   "cell_type": "code",
   "execution_count": 58,
   "metadata": {},
   "outputs": [
    {
     "name": "stdout",
     "output_type": "stream",
     "text": [
      "Eigenvalues of the observable: [-1.41421356+0.j  1.41421356+0.j]\n",
      "Mean value of the observable on the state: 0j\n",
      "Probability that the state will transition to each one of the eigenstates: [0.4999999999999999, 0.4999999999999999]\n",
      "Eigenvalues of the observable: [-1.41421356+0.j  1.41421356+0.j]\n",
      "Mean value of the observable on the state: (1+0j)\n",
      "Probability that the state will transition to each one of the eigenstates: [0.1464466094067262, 0.8535533905932737]\n"
     ]
    }
   ],
   "source": [
    "import numpy as np\n",
    "\n",
    "def norm(c: complex):\n",
    "  return (c.real**2 + c.imag**2)**0.5\n",
    "\n",
    "def measure(observable: list[list[complex]], state: list[complex]):\n",
    "  eigenvalues, eigenvectors = np.linalg.eig(np.array(observable, dtype=complex))\n",
    "  print(\"Eigenvalues of the observable:\", eigenvalues)\n",
    "  mean = observe_mean(observable, state)\n",
    "  print(\"Mean value of the observable on the state:\", mean)\n",
    "  probabilities = [norm(calc_transition_amplitude(state, ev)[0])**2 for ev in eigenvectors]\n",
    "  print(\"Probability that the state will transition to each one of the eigenstates:\", probabilities)\n",
    "\n",
    "measure([\n",
    "  [-1, -1j],\n",
    "  [1j, 1]\n",
    "], [1/2, 1/2])\n",
    "\n",
    "measure([\n",
    "  [-1, -1j],\n",
    "  [1j, 1]\n",
    "], [0, 1])"
   ]
  }
 ],
 "metadata": {
  "kernelspec": {
   "display_name": "Python 3",
   "language": "python",
   "name": "python3"
  },
  "language_info": {
   "codemirror_mode": {
    "name": "ipython",
    "version": 3
   },
   "file_extension": ".py",
   "mimetype": "text/x-python",
   "name": "python",
   "nbconvert_exporter": "python",
   "pygments_lexer": "ipython3",
   "version": "3.10.13"
  }
 },
 "nbformat": 4,
 "nbformat_minor": 2
}
