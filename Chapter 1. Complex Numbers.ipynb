{
 "cells": [
  {
   "cell_type": "markdown",
   "metadata": {},
   "source": [
    "# Chapter 1. Complex Numbers"
   ]
  },
  {
   "cell_type": "markdown",
   "metadata": {},
   "source": [
    "**Programming Drill 1.1.1** Write a program that accepts two complex numbers and outputs their sum and their product."
   ]
  },
  {
   "cell_type": "code",
   "execution_count": 27,
   "metadata": {},
   "outputs": [
    {
     "name": "stdout",
     "output_type": "stream",
     "text": [
      "Original numbers are: 2+7i and 4-i\n",
      "Their sum is 6+6i and there product is 15+26i\n"
     ]
    }
   ],
   "source": [
    "def input_complex_calculus(prompt):\n",
    "  c = input(prompt)\n",
    "  if \"+\" in c:\n",
    "    real, imaginary = c.split(\"+\")\n",
    "  elif \"-\" in c:\n",
    "    real, imaginary = c.split(\"-\")\n",
    "  elif \"i\" in c:\n",
    "    real = 0\n",
    "    imaginary = c\n",
    "  else:\n",
    "    real = c\n",
    "    imaginary = 0\n",
    "  if not real:\n",
    "    real = 0\n",
    "  if not imaginary:\n",
    "    imaginary = 0\n",
    "  else:\n",
    "    imaginary = imaginary[0:-1]\n",
    "    if not imaginary:\n",
    "      imaginary = 1\n",
    "  return int(real), -int(imaginary) if \"-\" in c else int(imaginary), c\n",
    "\n",
    "cr1, ci1, c1 = input_complex_calculus(\"Enter complex number 1: \")\n",
    "cr2, ci2, c2 = input_complex_calculus(\"Enter complex number 2: \")\n",
    "\n",
    "print(f\"Original numbers are: {c1} and {c2}\")\n",
    "print(f\"Their sum is {cr1+cr2}+{ci1+ci2}i and there product is {cr1*cr2-ci1*ci2}+{cr1*ci2+cr2*ci1}i\")"
   ]
  },
  {
   "cell_type": "markdown",
   "metadata": {},
   "source": [
    "\n",
    "**Programming Drill 1.2.1** Take the program that you wrote in the last programming drill and make it also perform subtraction and division of complex numbers. In ad- dition, let the user enter a complex number and have the computer return its modulus and conjugate."
   ]
  },
  {
   "cell_type": "code",
   "execution_count": 28,
   "metadata": {},
   "outputs": [
    {
     "name": "stdout",
     "output_type": "stream",
     "text": [
      "The second complex number modulus is 4.123105625617661 and its conjungate is 4+1i\n",
      "Their difference is -2+8i and there quotient is 0.058823529411764705+1.7647058823529411i\n"
     ]
    }
   ],
   "source": [
    "import math\n",
    "\n",
    "c2_modulus_squared = cr2**2 + ci2**2\n",
    "c2_modulus = math.sqrt(c2_modulus_squared)\n",
    "c2_conjungate = f\"{cr2}+{-ci2}i\"\n",
    "print(f\"The second complex number modulus is {c2_modulus} and its conjungate is {c2_conjungate}\")\n",
    "\n",
    "print(f\"Their difference is {cr1-cr2}+{ci1-ci2}i and there quotient is {(cr1*cr2+ci1*ci2)/c2_modulus_squared}+{(cr2*ci1-cr1*ci2)/c2_modulus_squared}i\")"
   ]
  },
  {
   "cell_type": "markdown",
   "metadata": {},
   "source": [
    "**Programming Drill 1.3.1** Write a program that converts a complex number from its Cartesian representation to its polar representation and vice versa."
   ]
  },
  {
   "cell_type": "code",
   "execution_count": 29,
   "metadata": {},
   "outputs": [
    {
     "name": "stdout",
     "output_type": "stream",
     "text": [
      "The polar form of the first number is (7.280109889280518, 1.2924966677897853) and the second number is (4.123105625617661, -0.24497866312686414)\n"
     ]
    }
   ],
   "source": [
    "def cartesian_to_polar(cr: float, ci: float):\n",
    "  p = math.sqrt(cr**2 + ci**2)\n",
    "  theta = math.atan2(ci, cr)\n",
    "  return p, theta\n",
    "\n",
    "def polar_to_cartesian(p, theta):\n",
    "  a = p*math.cos(theta)\n",
    "  b = p*math.sin(theta)\n",
    "  return a, b\n",
    "\n",
    "print(f\"The polar form of the first number is {cartesian_to_polar(cr1, ci1)} and the second number is {cartesian_to_polar(cr2, ci2)}\")"
   ]
  },
  {
   "cell_type": "markdown",
   "metadata": {},
   "source": [
    "**Programming Drill 1.3.2** If you like graphics, write a program that accepts a small drawing around the origin of the complex plane and a complex number. The program should change the drawing by multiplying every point of the diagram by a complex number."
   ]
  },
  {
   "cell_type": "code",
   "execution_count": 30,
   "metadata": {},
   "outputs": [],
   "source": [
    "pass"
   ]
  },
  {
   "cell_type": "markdown",
   "metadata": {},
   "source": [
    "**Programming Drill 1.3.3** Expand your program. Add functions for multiplication, division, and returning the polar coordinates of a number ('s power and roots?')."
   ]
  },
  {
   "cell_type": "code",
   "execution_count": 37,
   "metadata": {},
   "outputs": [
    {
     "name": "stdout",
     "output_type": "stream",
     "text": [
      "Their product using polar form is (30.01666203960727, 1.047518004662921), or (15.0, 26.0) in Cartesian form.\n",
      "Their quotient using polar form is (1.7656860023298393, 1.5374753309166496), or (0.058823529411764455, 1.7647058823529411) in Cartesian form.\n",
      "The first complex number to the 10th power is (418195492.9999999, 12.924966677897853)\n",
      "The tenth roots of the first complex number are:\n",
      "(1.2195898280242863, 0.12924966677897853)\n",
      "(1.2195898280242863, 0.7575681974969372)\n",
      "(1.2195898280242863, 1.385886728214896)\n",
      "(1.2195898280242863, 2.0142052589328543)\n",
      "(1.2195898280242863, 2.642523789650813)\n",
      "(1.2195898280242863, 3.2708423203687715)\n",
      "(1.2195898280242863, 3.89916085108673)\n",
      "(1.2195898280242863, 4.527479381804689)\n",
      "(1.2195898280242863, 5.155797912522647)\n",
      "(1.2195898280242863, 5.784116443240606)\n"
     ]
    }
   ],
   "source": [
    "p1, theta1 = cartesian_to_polar(cr1, ci1)\n",
    "p2, theta2 = cartesian_to_polar(cr2, ci2)\n",
    "print(f\"Their product using polar form is {(p1*p2, theta1 + theta2)}, or {polar_to_cartesian(p1*p2, theta1 + theta2)} in Cartesian form.\")\n",
    "print(f\"Their quotient using polar form is {(p1/p2, theta1 - theta2)}, or {polar_to_cartesian(p1/p2, theta1 - theta2)} in Cartesian form.\")\n",
    "print(f\"The first complex number to the 10th power is {(p1**10,10*theta1)}\")\n",
    "print(f\"The tenth roots of the first complex number are:\")\n",
    "for i in range(10):\n",
    "   print(f\"{(p1**(1/10),(theta1 + 2*i*math.pi)/10)}\")"
   ]
  }
 ],
 "metadata": {
  "kernelspec": {
   "display_name": "Python 3",
   "language": "python",
   "name": "python3"
  },
  "language_info": {
   "codemirror_mode": {
    "name": "ipython",
    "version": 3
   },
   "file_extension": ".py",
   "mimetype": "text/x-python",
   "name": "python",
   "nbconvert_exporter": "python",
   "pygments_lexer": "ipython3",
   "version": "3.10.13"
  }
 },
 "nbformat": 4,
 "nbformat_minor": 2
}
